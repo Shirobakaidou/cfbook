{
 "cells": [
  {
   "cell_type": "markdown",
   "metadata": {},
   "source": [
    "# What is netCDF?\n",
    "\n",
    "netCDF stands for Unidata's Network Common Form, is a data format generally used to create, access, and share array-oriented scientific data. In earth system science (ESS), datasets are predominently published in this data format, considerably because of several reasons:\n",
    "\n",
    "* netCDF file includes both data and the information about the data (metadata), making it *self-describing*.\n",
    "\n",
    "* A netCDF file can be accessed by various types of computers, can also be read and written simultaneously, so it is *portable* and *sharable*.\n",
    "\n",
    "* From netCDF, data subsets can be easily extracted; additional data can also be appended to the existing file as long as the structure of both datasets is aligned, thus it's a *scalable* and *appendable* data format.\n",
    "\n",
    "* Older versions of netCDF data are as well supported as the current and future versions by most softwares, so it's a good option for *data archiving* too.\n",
    "\n",
    "Quite often we find it not easy to interpret a netCDF file, especially if we are new to this data format. So let's walk through the content structure of a netCDF file together in this chapter!"
   ]
  },
  {
   "cell_type": "markdown",
   "metadata": {},
   "source": [
    "## netCDF Content Structure\n",
    "\n",
    "A netCDF file typically includes the **data** itself and the information about the data (also called **metadata**). In the field of ESS, the data are often physical variable(s), e.g. sea water temperature, earth surface temperature, wind speed etc. In common, the measurement of those variables spans across multiple longitudes and latitudes, as well as time or/and vertical dimensions such as altitude, depth, pressure levels, etc. Therefore, the data stored in a netCDF file are usually multi-dimensional. \n",
    "\n",
    "The metadata, on the other hand, provide useful attribute information about the data. In a standardized netCDF file, metadata should provide information on individual variables *(variable attributes)*, as well as the complete dataset *(global attributes)*. Important questions like what the dataset is about, what variables are measured, in which unit they're measured and so on should be answered by the metadata, so that data users can interpret the dataset solely by observing the dataset.\n",
    "\n",
    "To take a closer look into the content structure of a standard netCDF file, we take the NCEP-NCAR reanalysis [dataset](https://downloads.psl.noaa.gov/Datasets/ncep.reanalysis/Dailies/surface_gauss/) of daily mean air temperature at 2 meters above surface for year 1948 as an example."
   ]
  },
  {
   "cell_type": "code",
   "execution_count": 2,
   "metadata": {
    "tags": [
     "remove-input"
    ]
   },
   "outputs": [
    {
     "name": "stdout",
     "output_type": "stream",
     "text": [
      "xarray.Dataset {\n",
      "dimensions:\n",
      "\tlat = 94 ;\n",
      "\tlon = 192 ;\n",
      "\ttime = 366 ;\n",
      "\tnbnds = 2 ;\n",
      "\n",
      "variables:\n",
      "\tfloat32 lat(lat) ;\n",
      "\t\tlat:units = degrees_north ;\n",
      "\t\tlat:actual_range = [ 88.542 -88.542] ;\n",
      "\t\tlat:long_name = Latitude ;\n",
      "\t\tlat:standard_name = latitude ;\n",
      "\t\tlat:axis = Y ;\n",
      "\tfloat32 lon(lon) ;\n",
      "\t\tlon:units = degrees_east ;\n",
      "\t\tlon:long_name = Longitude ;\n",
      "\t\tlon:actual_range = [  0.    358.125] ;\n",
      "\t\tlon:standard_name = longitude ;\n",
      "\t\tlon:axis = X ;\n",
      "\tfloat64 time(time) ;\n",
      "\t\ttime:long_name = Time ;\n",
      "\t\ttime:delta_t = 0000-00-01 00:00:00 ;\n",
      "\t\ttime:avg_period = 0000-00-01 00:00:00 ;\n",
      "\t\ttime:standard_name = time ;\n",
      "\t\ttime:axis = T ;\n",
      "\t\ttime:units = hours since 1800-01-01 00:00:0.0 ;\n",
      "\t\ttime:actual_range = [1297320. 1306080.] ;\n",
      "\t\ttime:coordinate_defines = start ;\n",
      "\tfloat32 air(time, lat, lon) ;\n",
      "\t\tair:long_name = mean Daily Air temperature at 2 m ;\n",
      "\t\tair:units = degK ;\n",
      "\t\tair:precision = 2 ;\n",
      "\t\tair:GRIB_id = 11 ;\n",
      "\t\tair:GRIB_name = TMP ;\n",
      "\t\tair:var_desc = Air temperature ;\n",
      "\t\tair:dataset = NCEP Reanalysis Daily Averages ;\n",
      "\t\tair:level_desc = 2 m ;\n",
      "\t\tair:statistic = Mean ;\n",
      "\t\tair:parent_stat = Individual Obs ;\n",
      "\t\tair:missing_value = -9.969209968386869e+36 ;\n",
      "\t\tair:actual_range = [172.82    315.16998] ;\n",
      "\t\tair:valid_range = [150. 400.] ;\n",
      "\tfloat64 time_bnds(time, nbnds) ;\n",
      "\n",
      "// global attributes:\n",
      "\t:Conventions = COARDS ;\n",
      "\t:title = mean daily NMC reanalysis (1948) ;\n",
      "\t:description = Data is from NMC initialized reanalysis\n",
      "(4x/day).  It consists of T62 variables interpolated to\n",
      "pressure surfaces from model (sigma) surfaces. ;\n",
      "\t:platform = Model ;\n",
      "\t:history = created 99/05/17 by Hoop (netCDF2.3)\n",
      "Converted to chunked, deflated non-packed NetCDF4 2014/09 ;\n",
      "\t:dataset_title = NCEP-NCAR Reanalysis 1 ;\n",
      "\t:References = http://www.psl.noaa.gov/data/gridded/data.ncep.reanalysis.html ;\n",
      "}"
     ]
    }
   ],
   "source": [
    "import xarray as xr\n",
    "\n",
    "ds = xr.open_dataset(\"/Users/icdc/Documents/NFDI/Kemeng/cfbook/src/data/air.2m.gauss.1948.nc\",\n",
    "                     decode_cf=False)\n",
    "ds.info()"
   ]
  },
  {
   "cell_type": "markdown",
   "metadata": {},
   "source": [
    "### Dimension, Coordinate & Data\n",
    "\n",
    "As we can read, this dataset is made up of four dimensions (`lat`, `lon`, `time`, `nbnds`) and five variables (`lat`, `lon`, `time`, `air`, `time_bnds`).\n",
    "\n",
    "Let's take a look at the variable `lat(lat)`. The `lat` outside the brackets is the name of this variable, while the bracketed `lat` refers to the dimension `lat`. It indicates that the variable `lat` is a function of the dimension `lat`, or to say the variable `lat` depends on the dimension `lat`. We call such a variable a **coordinate variable**. A coordinate variable must be one-dimensional and monotonically increasing or decreasing, is usually named after the dimension it depends on, and doesn't allow missing values. It annotates the coordinates on the corresponding dimension. In this example, `lat`, `lon`, and `time` are all coordinate variables, labeling the dimension `lat`, `lon` and `time` respectively.\n",
    "\n",
    "However, if a \"coordinate variable\" doesn't fulfill these requirements, it can be added as an **auxiliary coordinate variable**. Unlike a coordinate variable, an auxiliary coordinate variable can be multidimensional, and there is no relationship between its name and the name(s) of its dimension(s). It doesn't have to have monotonic or unique values, and it allows missing values as well. In our example, `time_bnds` is an auxiliary coordinate variable.\n",
    "\n",
    "`time_bnds` is a common type of auxiliary coordinate variable in gridded data.\n",
    "\n",
    "Different from the coordinate variables, `air` is a **data variable** in this dataset, containing measured values of air temperature. `air(time, lat, lon)` indicates that this variable contains a three-dimensional array that spans along the dimensions `time`, `lat`, and `lon`. Thus we know is available for a specific region at multiple time steps."
   ]
  },
  {
   "cell_type": "markdown",
   "metadata": {},
   "source": [
    "### Metadata\n",
    "\n",
    "Now that we learned about the data in this dataset, let's have a look at the metadata. As you may have already noticed, there are attribute information provided for almost all the variables (**variable attributes**) as well as for the dataset as a whole (**global attributes**). Variable attributes provide information on individual variables, such as what was measured, in which units the data are presented, etc. Global attributes may contain a wide range of information about a dataset, such as title and description about a dataset. We will delve deeper into netCDF metadata in the next chapter."
   ]
  },
  {
   "cell_type": "markdown",
   "metadata": {},
   "source": [
    "In a brief summary, we learned the core content structure of a standardized netCDF file in this chapter. \n",
    "In a standard netCDF file, dimension, variable and metadata are the three main building blocks. The three types of variables are:\n",
    "\n",
    "* Coordinate Variable\n",
    "* Auxiliary Coordinate Variable\n",
    "* Data Variable\n",
    "\n",
    "We can recognize two kinds of metadata:\n",
    "* Variable Attribute\n",
    "* Global Attribute\n",
    "\n",
    "In the next chapter, we'll learn about CF-Conventions, a broadly adopted metadata convention in Earth System Science."
   ]
  }
 ],
 "metadata": {
  "kernelspec": {
   "display_name": "venvNetcdf",
   "language": "python",
   "name": "venvnetcdf"
  },
  "language_info": {
   "codemirror_mode": {
    "name": "ipython",
    "version": 3
   },
   "file_extension": ".py",
   "mimetype": "text/x-python",
   "name": "python",
   "nbconvert_exporter": "python",
   "pygments_lexer": "ipython3",
   "version": "3.12.0"
  }
 },
 "nbformat": 4,
 "nbformat_minor": 2
}
