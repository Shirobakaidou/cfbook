{
 "cells": [
  {
   "cell_type": "markdown",
   "metadata": {},
   "source": [
    "# What is netCDF?\n",
    "\n",
    "netCDF, short for Unidata's Network Common Form, is a data format widely used in the creation, access, and sharing of array-oriented scientific data. In the field of earth system science (ESS), this format is the go-to for publishing datasets, largely due to several key advantages:\n",
    "\n",
    "* A netCDF file combines both the data itself and crucial information about the data (metadata), making it easily understandable or *self-describing*.\n",
    "\n",
    "* A netCDF file allows access from various computing platforms, and facilitates simultaneous reading and writing, thus promoting *portability* and *shareability*.\n",
    "\n",
    "* With netCDF, extracting specific data subsets or adding new data to an existing file is straightforward, thanks to its *scalable* and *appendable* nature.\n",
    "\n",
    "* Compatibility across software applications extends to older as well as future versions of netCDF data, making it an ideal choice for *data archiving*.\n",
    "\n",
    "Despite its widespread use, interpreting a netCDF file can be challenging, especially for newcomers to the format. This chapter aims to simplify the understanding of a netCDF file's content structure through a guided exploration."
   ]
  },
  {
   "cell_type": "markdown",
   "metadata": {},
   "source": [
    "## NetCDF Content Structure\n",
    "\n",
    "In general, a netCDF file contains data and attributes about the data, i.e. metadata. The \"data\" are structured by **dimensions** and variables (**coordinate variables**, **data variables**, and occasionally other types of variables). The `dimensions` define how the data are arranged, while the `coordinate variables` mark the coordinates on each dimension. The `data variables` are often physical variable(s) in the ESS domain, e.g. sea water temperature, earth surface temperature, wind speed etc. In common, the measurement of these variables spans across multiple dimensions, e.g. longitude, latitude, as well as time or/and vertical dimensions such as altitude, depth, pressure levels, etc. \n",
    "\n",
    "Besides the data itself, two types of \"metadata\" should be made available in a standardized netCDF file. One is the **variable attributes**, giving information about individual coordinate variables as well as data variables; and the other one is the **global attributes**, containing information about the dataset as a whole."
   ]
  },
  {
   "cell_type": "markdown",
   "metadata": {},
   "source": [
    "### Data\n",
    "\n",
    "To easy the understanding of the content structure of a netCDF file, we'll look into an [example dataset](https://downloads.psl.noaa.gov/Datasets/ncep.reanalysis/Dailies/surface_gauss/) from NCEP-NCAR reanalysis, containing daily mean air temperature at 2 meters above earth surface for year 1948."
   ]
  },
  {
   "cell_type": "code",
   "execution_count": 1,
   "metadata": {
    "tags": [
     "remove-input"
    ]
   },
   "outputs": [
    {
     "name": "stdout",
     "output_type": "stream",
     "text": [
      "xarray.Dataset {\n",
      "dimensions:\n",
      "\tlat = 94 ;\n",
      "\tlon = 192 ;\n",
      "\ttime = 366 ;\n",
      "\tnbnds = 2 ;\n",
      "\n",
      "variables:\n",
      "\tfloat32 lat(lat) ;\n",
      "\t\tlat:units = degrees_north ;\n",
      "\t\tlat:actual_range = [ 88.542 -88.542] ;\n",
      "\t\tlat:long_name = Latitude ;\n",
      "\t\tlat:standard_name = latitude ;\n",
      "\t\tlat:axis = Y ;\n",
      "\tfloat32 lon(lon) ;\n",
      "\t\tlon:units = degrees_east ;\n",
      "\t\tlon:long_name = Longitude ;\n",
      "\t\tlon:actual_range = [  0.    358.125] ;\n",
      "\t\tlon:standard_name = longitude ;\n",
      "\t\tlon:axis = X ;\n",
      "\tfloat64 time(time) ;\n",
      "\t\ttime:long_name = Time ;\n",
      "\t\ttime:delta_t = 0000-00-01 00:00:00 ;\n",
      "\t\ttime:avg_period = 0000-00-01 00:00:00 ;\n",
      "\t\ttime:standard_name = time ;\n",
      "\t\ttime:axis = T ;\n",
      "\t\ttime:units = hours since 1800-01-01 00:00:0.0 ;\n",
      "\t\ttime:actual_range = [1297320. 1306080.] ;\n",
      "\t\ttime:coordinate_defines = start ;\n",
      "\tfloat32 air(time, lat, lon) ;\n",
      "\t\tair:long_name = mean Daily Air temperature at 2 m ;\n",
      "\t\tair:units = degK ;\n",
      "\t\tair:precision = 2 ;\n",
      "\t\tair:GRIB_id = 11 ;\n",
      "\t\tair:GRIB_name = TMP ;\n",
      "\t\tair:var_desc = Air temperature ;\n",
      "\t\tair:dataset = NCEP Reanalysis Daily Averages ;\n",
      "\t\tair:level_desc = 2 m ;\n",
      "\t\tair:statistic = Mean ;\n",
      "\t\tair:parent_stat = Individual Obs ;\n",
      "\t\tair:missing_value = -9.969209968386869e+36 ;\n",
      "\t\tair:actual_range = [172.82    315.16998] ;\n",
      "\t\tair:valid_range = [150. 400.] ;\n",
      "\tfloat64 time_bnds(time, nbnds) ;\n",
      "\n",
      "// global attributes:\n",
      "\t:Conventions = COARDS ;\n",
      "\t:title = mean daily NMC reanalysis (1948) ;\n",
      "\t:description = Data is from NMC initialized reanalysis\n",
      "(4x/day).  It consists of T62 variables interpolated to\n",
      "pressure surfaces from model (sigma) surfaces. ;\n",
      "\t:platform = Model ;\n",
      "\t:history = created 99/05/17 by Hoop (netCDF2.3)\n",
      "Converted to chunked, deflated non-packed NetCDF4 2014/09 ;\n",
      "\t:dataset_title = NCEP-NCAR Reanalysis 1 ;\n",
      "\t:References = http://www.psl.noaa.gov/data/gridded/data.ncep.reanalysis.html ;\n",
      "}"
     ]
    }
   ],
   "source": [
    "import xarray as xr\n",
    "\n",
    "ds = xr.open_dataset(\"/Users/icdc/Documents/NFDI/Kemeng/cfbook/src/data/air.2m.gauss.1948.nc\",\n",
    "                     decode_cf=False)\n",
    "ds.info()"
   ]
  },
  {
   "cell_type": "markdown",
   "metadata": {},
   "source": [
    "As we see, the example dataset consists of four dimensions (`lat`, `lon`, `time`, `nbnds`) and five variables (`lat`, `lon`, `time`, `air`, `time_bnds`).\n",
    "\n",
    "By convention, a coordinate variable usually has the same name as the dimension where it specifies the coordinate values; moreover, a coordinate variable should be one-dimensional, has values strictly increasing or decreasing, and doesn't allow missing values {cite}`Eaton:2023`. Among the five variables in this dataset, `lat`, `lon`, and `time` are all coordinate variables.\n"
   ]
  },
  {
   "cell_type": "code",
   "execution_count": 12,
   "metadata": {
    "tags": [
     "remove-input"
    ]
   },
   "outputs": [
    {
     "name": "stdout",
     "output_type": "stream",
     "text": [
      "Coordinates:\n",
      "  * lon      (lon) float32 768B 0.0 1.875 3.75 5.625 ... 352.5 354.4 356.2 358.1\n",
      "Coordinates:\n",
      "  * lat      (lat) float32 376B 88.54 86.65 84.75 82.85 ... -84.75 -86.65 -88.54\n",
      "Coordinates:\n",
      "  * time     (time) float64 3kB 1.297e+06 1.297e+06 ... 1.306e+06 1.306e+06\n"
     ]
    }
   ],
   "source": [
    "print(ds.lon.coords)\n",
    "print(ds.lat.coords)\n",
    "print(ds.time.coords)"
   ]
  },
  {
   "cell_type": "markdown",
   "metadata": {},
   "source": [
    "```{note}\n",
    "Variables are displayed as `variable_name(dimension)`. For instance, in variable `lat(lat)`, the `lat` outside the brackets is the variable name, while the bracketed `lat` refers to the dimension `lat`. It indicates that the variable `lat` is a function of the dimension `lat`, or to say the variable `lat` is expanded in the dimension `lat`.\n",
    "```"
   ]
  },
  {
   "cell_type": "markdown",
   "metadata": {},
   "source": [
    "However, if a variable that contains coordinate data doesn't fulfill the requirements to be a coordinate variable, it is considered an **auxiliary coordinate variable**. Unlike a coordinate variable, an auxiliary coordinate variable can be multidimensional, and there is no relationship between its name and the name(s) of its dimension(s). It doesn't have to have monotonic or unique values, and it allows missing values as well. In out example, `time_bnds` is an auxiliary coordinate variable."
   ]
  },
  {
   "cell_type": "markdown",
   "metadata": {},
   "source": [
    "```{note}\n",
    "The variable `time_bnds` defines the bounds of time intervals. For the convenience of computing, time coordinates are often the midpoint of a time interval, so some data creators are providing more information about time intervals by defining a time bounary variable. Similar case can be found often for the longitude and latitude too.\n",
    "```"
   ]
  },
  {
   "cell_type": "markdown",
   "metadata": {},
   "source": [
    "Different from the (auxiliary) coordinate variables explained above, `air` is the **data variable** in this dataset, containing air temperature data. `air(time, lat, lon)` indicates that the data in this variable is expanded along three dimensions, `time`, `lat`, and `lon`. "
   ]
  },
  {
   "cell_type": "code",
   "execution_count": 14,
   "metadata": {"tags": [
        "remove-input"
    ]},
   "outputs": [
    {
     "name": "stdout",
     "output_type": "stream",
     "text": [
      "<xarray.DataArray 'air' (time: 366, lat: 94, lon: 192)> Size: 26MB\n",
      "array([[[225.85   , 225.85   , ..., 225.92   , 225.87   ],\n",
      "        [226.42   , 226.75   , ..., 226.04   , 226.22   ],\n",
      "        ...,\n",
      "        [258.57   , 258.7    , ..., 258.4    , 258.5    ],\n",
      "        [258.02002, 258.02002, ..., 258.03998, 258.03998]],\n",
      "\n",
      "       [[227.7    , 227.75   , ..., 227.7    , 227.7    ],\n",
      "        [226.56999, 227.     , ..., 226.     , 226.27   ],\n",
      "        ...,\n",
      "        [258.1    , 258.22   , ..., 257.97   , 258.07   ],\n",
      "        [257.75   , 257.7    , ..., 257.8    , 257.77002]],\n",
      "\n",
      "       ...,\n",
      "\n",
      "       [[229.65   , 229.65   , ..., 229.62   , 229.7    ],\n",
      "        [231.97   , 231.8    , ..., 232.56999, 232.3    ],\n",
      "        ...,\n",
      "        [257.62   , 257.57   , ..., 257.77002, 257.72   ],\n",
      "        [256.77002, 256.72   , ..., 256.95   , 256.9    ]],\n",
      "\n",
      "       [[227.81999, 227.95   , ..., 227.56999, 227.72   ],\n",
      "        [228.3    , 228.3    , ..., 228.3    , 228.27   ],\n",
      "        ...,\n",
      "        [256.45   , 256.39   , ..., 256.65   , 256.55   ],\n",
      "        [256.3    , 256.32   , ..., 256.5    , 256.41998]]], dtype=float32)\n",
      "Coordinates:\n",
      "  * lat      (lat) float32 376B 88.54 86.65 84.75 82.85 ... -84.75 -86.65 -88.54\n",
      "  * lon      (lon) float32 768B 0.0 1.875 3.75 5.625 ... 352.5 354.4 356.2 358.1\n",
      "  * time     (time) float64 3kB 1.297e+06 1.297e+06 ... 1.306e+06 1.306e+06\n",
      "Attributes: (12/13)\n",
      "    long_name:      mean Daily Air temperature at 2 m\n",
      "    units:          degK\n",
      "    precision:      2\n",
      "    GRIB_id:        11\n",
      "    GRIB_name:      TMP\n",
      "    var_desc:       Air temperature\n",
      "    ...             ...\n",
      "    level_desc:     2 m\n",
      "    statistic:      Mean\n",
      "    parent_stat:    Individual Obs\n",
      "    missing_value:  -9.96921e+36\n",
      "    actual_range:   [172.82    315.16998]\n",
      "    valid_range:    [150. 400.]\n"
     ]
    }
   ],
   "source": [
    "print(ds.air)"
   ]
  },
  {
   "cell_type": "markdown",
   "metadata": {},
   "source": [
    "### Metadata\n",
    "\n",
    "After learning about some basic variable types in a standard netCDF file, now let's have a brief look at the metadata. As mentioned earlier, there are two types of metadata included in a netCDF file, i.e. **variable attributes** and **global attributes**. The attributes about individual variables (e.g. `time`, `lat`, `lon`, `air`) are variable attributes, and the attributes about the whole dataset are global attributes. What kind of information should be included in variable attributes? Do the attributes for a coordinate variable differ from those for a data variable? How about the global attributes? These are the questions covered by the CF Conventions, a broadly adopted metadata standard in Earth System Science. We will delve deeper into it in the next chapter."
   ]
  },
  {
   "cell_type": "markdown",
   "metadata": {},
   "source": [
    "## Wrap-up\n",
    "\n",
    "In a brief summary, in this chapter we learned about the core content structure of a standardized netCDF, where \"dimension\", \"variable\" and \"metadata\" are the three main building blocks. Data are stored in data variables and are expanded along dimensions, of which the coordinates are marked by corresponding coordinate variables. Auxilliary coordinate variables also contain coordinates, and usually enrich the information about the data. Metadata about individual variables (variable attribute) as well as the whole dataset (global attribute) are supposed to be delivered in a standard netCDF file."
   ]
  }
 ],
 "metadata": {
  "kernelspec": {
   "display_name": "venvNetcdf",
   "language": "python",
   "name": "venvnetcdf"
  },
  "language_info": {
   "codemirror_mode": {
    "name": "ipython",
    "version": 3
   },
   "file_extension": ".py",
   "mimetype": "text/x-python",
   "name": "python",
   "nbconvert_exporter": "python",
   "pygments_lexer": "ipython3",
   "version": "3.12.0"
  }
 },
 "nbformat": 4,
 "nbformat_minor": 2
}
