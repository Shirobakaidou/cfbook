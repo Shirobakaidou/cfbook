{
 "cells": [
  {
   "cell_type": "markdown",
   "metadata": {},
   "source": [
    "# What is netCDF?\n",
    "\n",
    "netCDF stands for Network Common Data Form. It is a data format widely used for creating, accessing, and sharing array-oriented scientific data. In earth system science (ESS), datasets are predominantly published in this format for several reasons:\n",
    "\n",
    "* **Self-describing**: A netCDF file includes both the data and metadata, which is information about the data.\n",
    "\n",
    "* **Portable and sharable**: A netCDF file can be accessed by various types of computers and can be read and written simultaneously.\n",
    "\n",
    "* **Scalable and appendable**: Data subsets can be easily extracted from netCDF files. Additional data can also be appended to an existing file, as long as the structure of both datasets is aligned.\n",
    "\n",
    "* **Suitable for data archiving**: Older versions of netCDF data are as well supported as current and future versions by most softwares.\n",
    "\n",
    "Despite its widespread use, interpreting a netCDF file can be challenging, especially for newcomers to the format. This chapter will help you to easily understand the content structure of a standard netCDF file."
   ]
  },
  {
   "cell_type": "markdown",
   "metadata": {},
   "source": [
    "## NetCDF Content Structure\n",
    "\n",
    "A netCDF file generally contains **data** and attributes about the data, known as **metadata**. The data is composed of *dimensions* and *variables*, which include coordinate variables, data variables, and sometimes other types of variables.\n",
    "\n",
    "* *Dimensions* define how the data is organized.\n",
    "\n",
    "* *Coordinate variables*  specify the coordinates along each dimension.\n",
    "    \n",
    "* *Data variables* usually represent physical variables in the earth system science (ESS) domain, such as air temperature, wind speed, etc. These variables typically span multiple dimensions, usually over longitude, latitude, time, and vertical dimensions like altitude, depth, and pressure levels.\n",
    "\n",
    "In addition to the data, a standardized netCDF file includes two types of metadata:\n",
    "\n",
    "1. *Variable attributes*: These provide information about individual coordinate and data variables.\n",
    "    \n",
    "2. *Global attributes*: These provide information about the entire dataset."
   ]
  },
  {
   "cell_type": "markdown",
   "metadata": {},
   "source": [
    "### Data\n",
    "\n",
    "To make the structure of a netCDF file easier to understand, let's examine an [example dataset](https://downloads.psl.noaa.gov/Datasets/ncep.reanalysis/Dailies/surface_gauss/) from the NCEP-NCAR reanalysis. This dataset contains the daily mean air temperature at 2 meters above the Earth's surface for the year 1948."
   ]
  },
  {
   "cell_type": "code",
   "execution_count": 1,
   "metadata": {
    "tags": [
     "remove-input"
    ]
   },
   "outputs": [
    {
     "name": "stdout",
     "output_type": "stream",
     "text": [
      "xarray.Dataset {\n",
      "dimensions:\n",
      "\tlat = 94 ;\n",
      "\tlon = 192 ;\n",
      "\ttime = 366 ;\n",
      "\tnbnds = 2 ;\n",
      "\n",
      "variables:\n",
      "\tfloat32 lat(lat) ;\n",
      "\t\tlat:units = degrees_north ;\n",
      "\t\tlat:actual_range = [ 88.542 -88.542] ;\n",
      "\t\tlat:long_name = Latitude ;\n",
      "\t\tlat:standard_name = latitude ;\n",
      "\t\tlat:axis = Y ;\n",
      "\tfloat32 lon(lon) ;\n",
      "\t\tlon:units = degrees_east ;\n",
      "\t\tlon:long_name = Longitude ;\n",
      "\t\tlon:actual_range = [  0.    358.125] ;\n",
      "\t\tlon:standard_name = longitude ;\n",
      "\t\tlon:axis = X ;\n",
      "\tfloat64 time(time) ;\n",
      "\t\ttime:long_name = Time ;\n",
      "\t\ttime:delta_t = 0000-00-01 00:00:00 ;\n",
      "\t\ttime:avg_period = 0000-00-01 00:00:00 ;\n",
      "\t\ttime:standard_name = time ;\n",
      "\t\ttime:axis = T ;\n",
      "\t\ttime:units = hours since 1800-01-01 00:00:0.0 ;\n",
      "\t\ttime:actual_range = [1297320. 1306080.] ;\n",
      "\t\ttime:coordinate_defines = start ;\n",
      "\tfloat32 air(time, lat, lon) ;\n",
      "\t\tair:long_name = mean Daily Air temperature at 2 m ;\n",
      "\t\tair:units = degK ;\n",
      "\t\tair:precision = 2 ;\n",
      "\t\tair:GRIB_id = 11 ;\n",
      "\t\tair:GRIB_name = TMP ;\n",
      "\t\tair:var_desc = Air temperature ;\n",
      "\t\tair:dataset = NCEP Reanalysis Daily Averages ;\n",
      "\t\tair:level_desc = 2 m ;\n",
      "\t\tair:statistic = Mean ;\n",
      "\t\tair:parent_stat = Individual Obs ;\n",
      "\t\tair:missing_value = -9.969209968386869e+36 ;\n",
      "\t\tair:actual_range = [172.82    315.16998] ;\n",
      "\t\tair:valid_range = [150. 400.] ;\n",
      "\tfloat64 time_bnds(time, nbnds) ;\n",
      "\n",
      "// global attributes:\n",
      "\t:Conventions = COARDS ;\n",
      "\t:title = mean daily NMC reanalysis (1948) ;\n",
      "\t:description = Data is from NMC initialized reanalysis\n",
      "(4x/day).  It consists of T62 variables interpolated to\n",
      "pressure surfaces from model (sigma) surfaces. ;\n",
      "\t:platform = Model ;\n",
      "\t:history = created 99/05/17 by Hoop (netCDF2.3)\n",
      "Converted to chunked, deflated non-packed NetCDF4 2014/09 ;\n",
      "\t:dataset_title = NCEP-NCAR Reanalysis 1 ;\n",
      "\t:References = http://www.psl.noaa.gov/data/gridded/data.ncep.reanalysis.html ;\n",
      "}"
     ]
    }
   ],
   "source": [
    "import xarray as xr\n",
    "\n",
    "ds = xr.open_dataset(\"/Users/icdc/Documents/NFDI/Kemeng/cfbook/src/data/air.2m.gauss.1948.nc\",\n",
    "                     decode_cf=False)\n",
    "ds.info()"
   ]
  },
  {
   "cell_type": "markdown",
   "metadata": {},
   "source": [
    "The example dataset includes four dimensions (`lat`, `lon`, `time`, `nbnds`) and five variables (`lat`, `lon`, `time`, `air`, `time_bnds`).\n",
    "\n",
    "By convention, a coordinate variable usually has the same name as the dimension it represents. A coordinate variable should be one-dimensional, with values that are strictly increasing or decreasing, and it should not have any missing values {cite}`Eaton:2023`. In this dataset, latitude(`lat`), longitude(`lon`), and time(`time`) fill all these criteria and thus are coordinate variables."
   ]
  },
  {
   "cell_type": "code",
   "execution_count": 12,
   "metadata": {
    "tags": [
     "remove-input"
    ]
   },
   "outputs": [
    {
     "name": "stdout",
     "output_type": "stream",
     "text": [
      "Coordinates:\n",
      "  * lon      (lon) float32 768B 0.0 1.875 3.75 5.625 ... 352.5 354.4 356.2 358.1\n",
      "Coordinates:\n",
      "  * lat      (lat) float32 376B 88.54 86.65 84.75 82.85 ... -84.75 -86.65 -88.54\n",
      "Coordinates:\n",
      "  * time     (time) float64 3kB 1.297e+06 1.297e+06 ... 1.306e+06 1.306e+06\n"
     ]
    }
   ],
   "source": [
    "print(ds.lon.coords)\n",
    "print(ds.lat.coords)\n",
    "print(ds.time.coords)"
   ]
  },
  {
   "cell_type": "markdown",
   "metadata": {},
   "source": [
    "```{note}\n",
    "Variables are displayed as `variable_name(dimension)`. For example, in `lat(lat)`, the `lat` outside the brackets is the variable name, while the `lat` inside the brackets refers to the dimension \"lat\". This means that the variable \"lat\" is defined along the \"lat\" dimension.\n",
    "```"
   ]
  },
  {
   "cell_type": "markdown",
   "metadata": {},
   "source": [
    "If a variable contains coordinate data but doesn't meet the criteria to be a coordinate variable, it is considered an **auxiliary coordinate variable**. Unlike coordinate variables, auxiliary coordinate variables can be multidimensional, their names do not have to match their dimension names, they do not need to have strictly increasing or decreasing values, and they can include missing values. In our example, `time_bnds` is an auxiliary coordinate variable."
   ]
  },
  {
   "cell_type": "markdown",
   "metadata": {},
   "source": [
    "```{note}\n",
    "The variable `time_bnds` defines the bounds of time intervals. Often, time coordinates represent the midpoint of a time interval to simplify calculations. By including a time boundary variable (`time_bnds`), data creators can define the start and the end of the time interval. This practice is also common for longitude and latitude coordinates.\n",
    "```"
   ]
  },
  {
   "cell_type": "markdown",
   "metadata": {},
   "source": [
    "The `air` variable is different from the coordinate and auxiliary coordinate variables; it is a **data variable** that contains air temperature data. The notation `air(time, lat, lon)` indicates that the data array in this variable is organized along the dimensions `time`, `lat`, and `lon` in sequence."
   ]
  },
  {
   "cell_type": "code",
   "execution_count": 14,
   "metadata": {
    "tags": [
     "remove-input"
    ]
   },
   "outputs": [
    {
     "name": "stdout",
     "output_type": "stream",
     "text": [
      "<xarray.DataArray 'air' (time: 366, lat: 94, lon: 192)> Size: 26MB\n",
      "array([[[225.85   , 225.85   , ..., 225.92   , 225.87   ],\n",
      "        [226.42   , 226.75   , ..., 226.04   , 226.22   ],\n",
      "        ...,\n",
      "        [258.57   , 258.7    , ..., 258.4    , 258.5    ],\n",
      "        [258.02002, 258.02002, ..., 258.03998, 258.03998]],\n",
      "\n",
      "       [[227.7    , 227.75   , ..., 227.7    , 227.7    ],\n",
      "        [226.56999, 227.     , ..., 226.     , 226.27   ],\n",
      "        ...,\n",
      "        [258.1    , 258.22   , ..., 257.97   , 258.07   ],\n",
      "        [257.75   , 257.7    , ..., 257.8    , 257.77002]],\n",
      "\n",
      "       ...,\n",
      "\n",
      "       [[229.65   , 229.65   , ..., 229.62   , 229.7    ],\n",
      "        [231.97   , 231.8    , ..., 232.56999, 232.3    ],\n",
      "        ...,\n",
      "        [257.62   , 257.57   , ..., 257.77002, 257.72   ],\n",
      "        [256.77002, 256.72   , ..., 256.95   , 256.9    ]],\n",
      "\n",
      "       [[227.81999, 227.95   , ..., 227.56999, 227.72   ],\n",
      "        [228.3    , 228.3    , ..., 228.3    , 228.27   ],\n",
      "        ...,\n",
      "        [256.45   , 256.39   , ..., 256.65   , 256.55   ],\n",
      "        [256.3    , 256.32   , ..., 256.5    , 256.41998]]], dtype=float32)\n",
      "Coordinates:\n",
      "  * lat      (lat) float32 376B 88.54 86.65 84.75 82.85 ... -84.75 -86.65 -88.54\n",
      "  * lon      (lon) float32 768B 0.0 1.875 3.75 5.625 ... 352.5 354.4 356.2 358.1\n",
      "  * time     (time) float64 3kB 1.297e+06 1.297e+06 ... 1.306e+06 1.306e+06\n",
      "Attributes: (12/13)\n",
      "    long_name:      mean Daily Air temperature at 2 m\n",
      "    units:          degK\n",
      "    precision:      2\n",
      "    GRIB_id:        11\n",
      "    GRIB_name:      TMP\n",
      "    var_desc:       Air temperature\n",
      "    ...             ...\n",
      "    level_desc:     2 m\n",
      "    statistic:      Mean\n",
      "    parent_stat:    Individual Obs\n",
      "    missing_value:  -9.96921e+36\n",
      "    actual_range:   [172.82    315.16998]\n",
      "    valid_range:    [150. 400.]\n"
     ]
    }
   ],
   "source": [
    "print(ds.air)"
   ]
  },
  {
   "cell_type": "markdown",
   "metadata": {},
   "source": [
    "### Metadata\n",
    "\n",
    "Now that we've covered the basic types of variables in a standard netCDF file, let's take a brief look at the metadata. The two types of metadata in a netCDF file are **variable attributes** and **global attributes**.\n",
    "\n",
    "* *Variable attributes* provide information about individual variables, such as time, lat, lon, and air.\n",
    "    \n",
    "* *Global attributes* provide information about the entire dataset.\n",
    "\n",
    "What kind of information should be included in variable attributes? Do the attributes for a coordinate variable differ from those for a data variable? What about global attributes? These questions are addressed by the CF Conventions, a widely adopted metadata standard in Earth System Science. We will explore this in more detail in the next chapter."
   ]
  },
  {
   "cell_type": "markdown",
   "metadata": {},
   "source": [
    "To summarize, in this chapter we learned about the core content structure of a standardized netCDF file, which includes three main components: \"dimensions,\" \"variables,\" and \"metadata.\" Data is stored in data variables and organized along dimensions, with coordinates specified by corresponding coordinate variables. Auxiliary coordinate variables provide additional coordinate information. Metadata is included for both individual variables (variable attributes) and the entire dataset (global attributes) in a standard netCDF file."
   ]
  }
 ],
 "metadata": {
  "kernelspec": {
   "display_name": "venvnetcdf",
   "language": "python",
   "name": "venvnetcdf"
  },
  "language_info": {
   "codemirror_mode": {
    "name": "ipython",
    "version": 3
   },
   "file_extension": ".py",
   "mimetype": "text/x-python",
   "name": "python",
   "nbconvert_exporter": "python",
   "pygments_lexer": "ipython3",
   "version": "3.12.0"
  }
 },
 "nbformat": 4,
 "nbformat_minor": 2
}
