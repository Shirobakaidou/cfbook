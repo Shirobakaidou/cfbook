{
 "cells": [
  {
   "cell_type": "markdown",
   "metadata": {},
   "source": [
    "# What is netCDF?\n",
    "\n",
    "netCDF stands for Network Common Data Form. It is a data format widely used for creating, accessing, and sharing array-oriented scientific data. In earth system science (ESS), datasets are predominantly published in this format for several reasons:\n",
    "\n",
    "* **Self-describing**: A netCDF file includes both the data and metadata, which is information about the data.\n",
    "\n",
    "* **Portable and sharable**: A netCDF file can be accessed by various types of computers and can be read and written simultaneously.\n",
    "\n",
    "* **Scalable and appendable**: Data subsets can be easily extracted from netCDF files. Additional data can also be appended to an existing file, as long as the structure of both datasets is aligned.\n",
    "\n",
    "* **Suitable for data archiving**: Older versions of netCDF data are as well supported as current and future versions by most softwares.\n",
    "\n",
    "Despite its widespread use, interpreting a netCDF file can be challenging, especially for newcomers to the format. This chapter will help you to easily understand the content structure of a standard netCDF file."
   ]
  },
  {
   "cell_type": "markdown",
   "metadata": {},
   "source": [
    "## NetCDF Content Structure\n",
    "\n",
    "A netCDF file generally contains **data** and attributes about the data, known as **metadata**. The data is composed of *dimensions* and *variables*, which include coordinate variables, data variables, and sometimes other types of variables.\n",
    "\n",
    "* *Dimensions* define the dimensional span and the shape of the data arrays.\n",
    "\n",
    "* *Coordinate variables* specify the coordinates along each dimension.\n",
    "    \n",
    "* *Data variables* usually represent physical variables in the earth system science (ESS) domain, such as air temperature, wind speed, etc. These variables typically span multiple dimensions, usually over longitude, latitude, time, and vertical dimensions like altitude, depth, and pressure levels.\n",
    "\n",
    "In addition to the data, a standardized netCDF file includes two types of metadata:\n",
    "\n",
    "1. *Variable attributes*: These provide information about individual coordinate and data variables.\n",
    "    \n",
    "2. *Global attributes*: These provide information about the entire dataset."
   ]
  },
  {
   "cell_type": "markdown",
   "metadata": {},
   "source": [
    "### Data\n",
    "\n",
    "To make the structure of a netCDF file easier to understand, let's examine an [example dataset](https://downloads.psl.noaa.gov/Datasets/ncep.reanalysis/Dailies/surface_gauss/) from the NCEP-NCAR reanalysis. This dataset contains the daily mean air temperature at 2 meters above the Earth's surface for the year 1948. *Please note that `tos:cell_methods = time: mean (interval: 30 minutes)` is considered a mistake of the source dataset, `30 days` instead of `30 minutes` would be correct in its context.*"
   ]
  },
  {
   "cell_type": "code",
   "execution_count": 1,
   "metadata": {
    "tags": [
     "remove-input"
    ]
   },
   "outputs": [
    {
     "name": "stdout",
     "output_type": "stream",
     "text": [
      "xarray.Dataset {\n",
      "dimensions:\n",
      "\tlon = 180 ;\n",
      "\tbnds = 2 ;\n",
      "\tlat = 170 ;\n",
      "\ttime = 24 ;\n",
      "\n",
      "variables:\n",
      "\tfloat64 lon(lon) ;\n",
      "\t\tlon:standard_name = longitude ;\n",
      "\t\tlon:long_name = longitude ;\n",
      "\t\tlon:units = degrees_east ;\n",
      "\t\tlon:axis = X ;\n",
      "\t\tlon:bounds = lon_bnds ;\n",
      "\t\tlon:original_units = degrees_east ;\n",
      "\tfloat64 lon_bnds(lon, bnds) ;\n",
      "\tfloat64 lat(lat) ;\n",
      "\t\tlat:standard_name = latitude ;\n",
      "\t\tlat:long_name = latitude ;\n",
      "\t\tlat:units = degrees_north ;\n",
      "\t\tlat:axis = Y ;\n",
      "\t\tlat:bounds = lat_bnds ;\n",
      "\t\tlat:original_units = degrees_north ;\n",
      "\tfloat64 lat_bnds(lat, bnds) ;\n",
      "\tfloat64 time(time) ;\n",
      "\t\ttime:standard_name = time ;\n",
      "\t\ttime:long_name = time ;\n",
      "\t\ttime:units = days since 2001-1-1 ;\n",
      "\t\ttime:axis = T ;\n",
      "\t\ttime:calendar = 360_day ;\n",
      "\t\ttime:bounds = time_bnds ;\n",
      "\t\ttime:original_units = seconds since 2001-1-1 ;\n",
      "\tfloat64 time_bnds(time, bnds) ;\n",
      "\tfloat32 tos(time, lat, lon) ;\n",
      "\t\ttos:standard_name = sea_surface_temperature ;\n",
      "\t\ttos:long_name = Sea Surface Temperature ;\n",
      "\t\ttos:units = K ;\n",
      "\t\ttos:cell_methods = time: mean (interval: 30 minutes) ;\n",
      "\t\ttos:_FillValue = 1.0000000200408773e+20 ;\n",
      "\t\ttos:missing_value = 1.0000000200408773e+20 ;\n",
      "\t\ttos:original_name = sosstsst ;\n",
      "\t\ttos:original_units = degC ;\n",
      "\t\ttos:history =  At   16:37:23 on 01/11/2005: CMOR altered the data in the following ways: added 2.73150E+02 to yield output units;  Cyclical dimension was output starting at a different lon; ;\n",
      "\n",
      "// global attributes:\n",
      "\t:title = IPSL  model output prepared for IPCC Fourth Assessment SRES A2 experiment ;\n",
      "\t:institution = IPSL (Institut Pierre Simon Laplace, Paris, France) ;\n",
      "\t:source = IPSL-CM4_v1 (2003) : atmosphere : LMDZ (IPSL-CM4_IPCC, 96x71x19) ; ocean ORCA2 (ipsl_cm4_v1_8, 2x2L31); sea ice LIM (ipsl_cm4_v ;\n",
      "\t:contact = Sebastien Denvil, sebastien.denvil@ipsl.jussieu.fr ;\n",
      "\t:project_id = IPCC Fourth Assessment ;\n",
      "\t:table_id = Table O1 (13 November 2004) ;\n",
      "\t:experiment_id = SRES A2 experiment ;\n",
      "\t:realization = 1 ;\n",
      "\t:cmor_version = 0.9599999785423279 ;\n",
      "\t:Conventions = CF-1.0 ;\n",
      "\t:history = YYYY/MM/JJ: data generated; YYYY/MM/JJ+1 data transformed  At 16:37:23 on 01/11/2005, CMOR rewrote data to comply with CF standards and IPCC Fourth Assessment requirements ;\n",
      "\t:references = Dufresne et al, Journal of Climate, 2015, vol XX, p 136 ;\n",
      "\t:comment = Test drive ;\n",
      "}"
     ]
    }
   ],
   "source": [
    "import xarray as xr\n",
    "\n",
    "ds = xr.open_dataset(\"/Users/icdc/Documents/NFDI/Kemeng/cfbook/src/data/tos_O1_2001-2002.nc\",\n",
    "                     decode_cf=False)\n",
    "ds.info()"
   ]
  },
  {
   "cell_type": "markdown",
   "metadata": {},
   "source": [
    "The example dataset includes four dimensions (`lat`, `lon`, `time`, `nbnds`) and five variables (`lat`, `lon`, `time`, `air`, `time_bnds`).\n",
    "\n",
    "In principal, a coordinate variable is a one-dimensional array, samely named as the dimension it represents. The array values should be strictly increasing or decreasing without any missing values {cite}`Eaton:2023`. For example, `time(time)` in the dataset above is a coordinate variable; defined by dimension `time = 24`, it is a 1D array containing 24 time coordinates. The same applies to longitude and latitude. The example dataset has three coordinate variables, i.e. `lat(lat)`, `lon(lon)`, and `time(time)`."
   ]
  },
  {
   "cell_type": "code",
   "execution_count": 2,
   "metadata": {
    "tags": [
     "remove-input"
    ]
   },
   "outputs": [
    {
     "name": "stdout",
     "output_type": "stream",
     "text": [
      "The time coordinates are:  [ 15.  45.  75. 105. 135. 165. 195. 225. 255. 285. 315. 345. 375. 405.\n",
      " 435. 465. 495. 525. 555. 585. 615. 645. 675. 705.]\n"
     ]
    }
   ],
   "source": [
    "#print(ds.lon.coords)\n",
    "print(\"The time coordinates are: \", ds.time.data)\n",
    "#print(ds.time.coords)"
   ]
  },
  {
   "cell_type": "markdown",
   "metadata": {},
   "source": [
    "```{note}\n",
    "In programs that can read netCDF files, variables are usually displayed as `variable_name(dimension)`. In the case of `lat(lat)`, for instance, the `lat` outside the brackets is the variable name, while the `lat` inside the brackets refers to the dimension \"lat\".\n",
    "```"
   ]
  },
  {
   "cell_type": "markdown",
   "metadata": {},
   "source": [
    "If a variable contains coordinate information but doesn't fulfill the conditions to be a coordinate variable (not one-dimensional, or not strictly increasing or decreasing, or missing values contained), it is considered an **auxiliary coordinate variable**. In the example above, `time_bnds(time, bnds)` is an auxiliary coordinate variable and, at the same time, a so-called *boundary variable*. It is a two-dimensional array and contains coordinates in pairs that describe the bounds of a time interval. It is a common pratice for many data publishers to select the midpoint of a time interval as time coordinate and define the start and the end of the intervals with a time boundary variable. In the example above, the \"15th day\" of a \"30-day interval\" are selected as time coordinates and time boundaries respectively. This practice is also common for variables of longitude and latitude. Similar to `time_bnds(time, bnds)`, `lon_bnds(lon, bnds)` and `lat_bnds(lat, bnds)` in the example are also auxiliary coordinate variables and the boundary variables for `lon` and `lat`."
   ]
  },
  {
   "cell_type": "code",
   "execution_count": 3,
   "metadata": {
    "tags": [
     "remove-input"
    ]
   },
   "outputs": [
    {
     "name": "stdout",
     "output_type": "stream",
     "text": [
      "The time boundary coordinates are:  [[  0.  30.]\n",
      " [ 30.  60.]\n",
      " [ 60.  90.]\n",
      " [ 90. 120.]\n",
      " [120. 150.]\n",
      " [150. 180.]\n",
      " [180. 210.]\n",
      " [210. 240.]\n",
      " [240. 270.]\n",
      " [270. 300.]\n",
      " [300. 330.]\n",
      " [330. 360.]\n",
      " [360. 390.]\n",
      " [390. 420.]\n",
      " [420. 450.]\n",
      " [450. 480.]\n",
      " [480. 510.]\n",
      " [510. 540.]\n",
      " [540. 570.]\n",
      " [570. 600.]\n",
      " [600. 630.]\n",
      " [630. 660.]\n",
      " [660. 690.]\n",
      " [690. 720.]]\n"
     ]
    }
   ],
   "source": [
    "print(\"The time boundary coordinates are: \", ds.time_bnds.data)"
   ]
  },
  {
   "cell_type": "markdown",
   "metadata": {},
   "source": [
    "Different from coordinate variable and auxiliary coordinate variable, a **data variable** holds actually measured data. In the example above, variable `tos(time, lat, lon)` is a data variable that contains sea surface temperature data on a space defined by the dimension and coordinates of longitude, latitude and time."
   ]
  },
  {
   "cell_type": "markdown",
   "metadata": {},
   "source": [
    "### Metadata\n",
    "\n",
    "Now that we walked through the common variable types in a standard netCDF file, let's take a brief look at metadata, which can be generally divided into **variable attributes** and **global attributes**.\n",
    "\n",
    "* *Variable attributes* describe a variable by providing information on its name, unit, missing values and so on.\n",
    "    \n",
    "* *Global attributes* provide valuable information about the entire dataset."
   ]
  },
  {
   "cell_type": "code",
   "execution_count": 4,
   "metadata": {
    "tags": [
     "remove-input"
    ]
   },
   "outputs": [
    {
     "name": "stdout",
     "output_type": "stream",
     "text": [
      "The variable attributes of the data variable tos: \n"
     ]
    },
    {
     "data": {
      "text/plain": [
       "{'standard_name': 'sea_surface_temperature',\n",
       " 'long_name': 'Sea Surface Temperature',\n",
       " 'units': 'K',\n",
       " 'cell_methods': 'time: mean (interval: 30 minutes)',\n",
       " '_FillValue': 1e+20,\n",
       " 'missing_value': 1e+20,\n",
       " 'original_name': 'sosstsst',\n",
       " 'original_units': 'degC',\n",
       " 'history': ' At   16:37:23 on 01/11/2005: CMOR altered the data in the following ways: added 2.73150E+02 to yield output units;  Cyclical dimension was output starting at a different lon;'}"
      ]
     },
     "execution_count": 4,
     "metadata": {},
     "output_type": "execute_result"
    }
   ],
   "source": [
    "print(\"The variable attributes of the data variable tos: \")\n",
    "ds.tos.attrs"
   ]
  },
  {
   "cell_type": "code",
   "execution_count": 5,
   "metadata": {
    "tags": [
     "remove-input"
    ]
   },
   "outputs": [
    {
     "name": "stdout",
     "output_type": "stream",
     "text": [
      "The global attributes: \n"
     ]
    },
    {
     "data": {
      "text/plain": [
       "{'title': 'IPSL  model output prepared for IPCC Fourth Assessment SRES A2 experiment',\n",
       " 'institution': 'IPSL (Institut Pierre Simon Laplace, Paris, France)',\n",
       " 'source': 'IPSL-CM4_v1 (2003) : atmosphere : LMDZ (IPSL-CM4_IPCC, 96x71x19) ; ocean ORCA2 (ipsl_cm4_v1_8, 2x2L31); sea ice LIM (ipsl_cm4_v',\n",
       " 'contact': 'Sebastien Denvil, sebastien.denvil@ipsl.jussieu.fr',\n",
       " 'project_id': 'IPCC Fourth Assessment',\n",
       " 'table_id': 'Table O1 (13 November 2004)',\n",
       " 'experiment_id': 'SRES A2 experiment',\n",
       " 'realization': 1,\n",
       " 'cmor_version': 0.96,\n",
       " 'Conventions': 'CF-1.0',\n",
       " 'history': 'YYYY/MM/JJ: data generated; YYYY/MM/JJ+1 data transformed  At 16:37:23 on 01/11/2005, CMOR rewrote data to comply with CF standards and IPCC Fourth Assessment requirements',\n",
       " 'references': 'Dufresne et al, Journal of Climate, 2015, vol XX, p 136',\n",
       " 'comment': 'Test drive'}"
      ]
     },
     "execution_count": 5,
     "metadata": {},
     "output_type": "execute_result"
    }
   ],
   "source": [
    "print(\"The global attributes: \")\n",
    "ds.attrs"
   ]
  },
  {
   "cell_type": "markdown",
   "metadata": {},
   "source": [
    "In this chapter, we learnt about the basic building blocks of a standard netCDF file: \"dimensions\", \"variables\", and \"metadata\". Dimensions define the dimensional span of a netCDF dataset and are labeled by the correponding coordinate variables. Further coordinate information is enriched by auxiliary coordinate variables. Measured data are hold by data variables. Metadata is available for individual variables (variable attributes) and the entire dataset (global attributes) in a standard netCDF file.\n",
    "\n",
    "At this stage, you may wonder what kind of attributes should be defined for variables and the entire dataset? Do the attributes of a coordinate variable differ from that of a data variable? Moreover, the structure of a netCDF file may also vary depending on the data type. These are important subjects addressed by the CF Conventions, a widely adopted metadata standard for netCDF file. We will delve into these questions in further details in the next chapter."
   ]
  }
 ],
 "metadata": {
  "kernelspec": {
   "display_name": "venvnetcdf",
   "language": "python",
   "name": "venvnetcdf"
  },
  "language_info": {
   "codemirror_mode": {
    "name": "ipython",
    "version": 3
   },
   "file_extension": ".py",
   "mimetype": "text/x-python",
   "name": "python",
   "nbconvert_exporter": "python",
   "pygments_lexer": "ipython3",
   "version": "3.12.0"
  }
 },
 "nbformat": 4,
 "nbformat_minor": 2
}
