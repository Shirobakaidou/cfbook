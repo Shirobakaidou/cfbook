{
 "cells": [
  {
   "cell_type": "markdown",
   "metadata": {},
   "source": [
    "# The CF Conventions --- A Metadata Standard for netCDF Data Format"
   ]
  },
  {
   "cell_type": "markdown",
   "metadata": {},
   "source": [
    "## Why should we adopt a metadata standard?\n",
    "\n",
    "In the earth system science (ESS) community, huge amount of data are generated, exchanged, and consumed. It is often a time consuming task for researchers to discover from an enormous pool of data the right dataset they want. Meanwhile, it is also challenging for data providers to bring their data products to users. To meet this challenge in today's research ecosystem, it is a highly recommended practice to enrich and standardize metadata of research datasets. By doing this, you're making your data more findable, interoperable, and reusable by other stakeholders in the community, thus contributing to the achievement of the FAIR principle of open science in a broader sense.\n",
    "\n",
    "A **metadata standard**, by definition, is a set of rules or guidelines that defines how metadata should be structured, described, and managed. It specifies the elements or attributes to be included, the semantics of those elements, and often the syntax or format in which the metadata should be encoded. \n",
    "\n",
    "The CF Conventions is becoming a widely adopted metadata standard for netCDF data format. It is the successor of the COARDS Conventions, and is characterised by its flexibility and campatibility with other metadata standards. Broadly speaking, the CF Conventions does two important things:\n",
    "\n",
    "1. Providing standards for attributes: What kind of attributes should be included in netCDFs?\n",
    "\n",
    "2. Giving recommendations on data structure in netCDF for different types of data (e.g. grid data, discret points etc.)\n",
    "\n"
   ]
  },
  {
   "cell_type": "markdown",
   "metadata": {},
   "source": [
    "## Standard Attributes in netCDF\n",
    "\n",
    "According to the [CF Conventions](https://cfconventions.org/Data/cf-conventions/cf-conventions-1.11/cf-conventions.html)(by the time of making this chapter, the most recent version of the CF Conventions is 1.11), some attributes are required while the others are optional. However, it is certainly recommended to enrich the attributes of each variable, as well as the entire dataset, as good as possible. Here, we will use the same [dataset](https://www.unidata.ucar.edu/software/netcdf/examples/tos_O1_2001-2002.nc) of sea surface temperature as an example like in the previous chapter."
   ]
  },
  {
   "cell_type": "code",
   "execution_count": 3,
   "metadata": {
    "tags": [
     "remove-input"
    ]
   },
   "outputs": [
    {
     "name": "stdout",
     "output_type": "stream",
     "text": [
      "xarray.Dataset {\n",
      "dimensions:\n",
      "\tlon = 180 ;\n",
      "\tbnds = 2 ;\n",
      "\tlat = 170 ;\n",
      "\ttime = 24 ;\n",
      "\n",
      "variables:\n",
      "\tfloat64 lon(lon) ;\n",
      "\t\tlon:standard_name = longitude ;\n",
      "\t\tlon:long_name = longitude ;\n",
      "\t\tlon:units = degrees_east ;\n",
      "\t\tlon:axis = X ;\n",
      "\t\tlon:bounds = lon_bnds ;\n",
      "\t\tlon:original_units = degrees_east ;\n",
      "\tfloat64 lon_bnds(lon, bnds) ;\n",
      "\tfloat64 lat(lat) ;\n",
      "\t\tlat:standard_name = latitude ;\n",
      "\t\tlat:long_name = latitude ;\n",
      "\t\tlat:units = degrees_north ;\n",
      "\t\tlat:axis = Y ;\n",
      "\t\tlat:bounds = lat_bnds ;\n",
      "\t\tlat:original_units = degrees_north ;\n",
      "\tfloat64 lat_bnds(lat, bnds) ;\n",
      "\tfloat64 time(time) ;\n",
      "\t\ttime:standard_name = time ;\n",
      "\t\ttime:long_name = time ;\n",
      "\t\ttime:units = days since 2001-1-1 ;\n",
      "\t\ttime:axis = T ;\n",
      "\t\ttime:calendar = 360_day ;\n",
      "\t\ttime:bounds = time_bnds ;\n",
      "\t\ttime:original_units = seconds since 2001-1-1 ;\n",
      "\tfloat64 time_bnds(time, bnds) ;\n",
      "\tfloat32 tos(time, lat, lon) ;\n",
      "\t\ttos:standard_name = sea_surface_temperature ;\n",
      "\t\ttos:long_name = Sea Surface Temperature ;\n",
      "\t\ttos:units = K ;\n",
      "\t\ttos:cell_methods = time: mean (interval: 30 minutes) ;\n",
      "\t\ttos:_FillValue = 1.0000000200408773e+20 ;\n",
      "\t\ttos:missing_value = 1.0000000200408773e+20 ;\n",
      "\t\ttos:original_name = sosstsst ;\n",
      "\t\ttos:original_units = degC ;\n",
      "\t\ttos:history =  At   16:37:23 on 01/11/2005: CMOR altered the data in the following ways: added 2.73150E+02 to yield output units;  Cyclical dimension was output starting at a different lon; ;\n",
      "\n",
      "// global attributes:\n",
      "\t:title = IPSL  model output prepared for IPCC Fourth Assessment SRES A2 experiment ;\n",
      "\t:institution = IPSL (Institut Pierre Simon Laplace, Paris, France) ;\n",
      "\t:source = IPSL-CM4_v1 (2003) : atmosphere : LMDZ (IPSL-CM4_IPCC, 96x71x19) ; ocean ORCA2 (ipsl_cm4_v1_8, 2x2L31); sea ice LIM (ipsl_cm4_v ;\n",
      "\t:contact = Sebastien Denvil, sebastien.denvil@ipsl.jussieu.fr ;\n",
      "\t:project_id = IPCC Fourth Assessment ;\n",
      "\t:table_id = Table O1 (13 November 2004) ;\n",
      "\t:experiment_id = SRES A2 experiment ;\n",
      "\t:realization = 1 ;\n",
      "\t:cmor_version = 0.9599999785423279 ;\n",
      "\t:Conventions = CF-1.0 ;\n",
      "\t:history = YYYY/MM/JJ: data generated; YYYY/MM/JJ+1 data transformed  At 16:37:23 on 01/11/2005, CMOR rewrote data to comply with CF standards and IPCC Fourth Assessment requirements ;\n",
      "\t:references = Dufresne et al, Journal of Climate, 2015, vol XX, p 136 ;\n",
      "\t:comment = Test drive ;\n",
      "}"
     ]
    }
   ],
   "source": [
    "import xarray as xr\n",
    "ds = xr.open_dataset(\n",
    "    \"/Users/icdc/Documents/NFDI/Kemeng/cfbook/src/data/tos_O1_2001-2002.nc\",\n",
    "    decode_cf=False,\n",
    ")\n",
    "ds.info()"
   ]
  },
  {
   "cell_type": "markdown",
   "metadata": {},
   "source": [
    "### 1.1. Variable Attributes\n",
    "\n",
    "* Required Attributes:\n",
    "\n",
    "    * `long_name`/`standard_name`: Define the meaning of the variable. The `long_name` can be given by dataset creators, whereas the `standard_name` must be a controlled vocabulary as defined in the [\"CF Standard Name Table\"](https://cfconventions.org/Data/cf-standard-names/current/build/cf-standard-name-table.html).\n",
    "        * E.g. in variable `tos`, the long name was defined as \"Sea Surface Temperature`, while another formation of the name is allowed too, as long as it makes sense, such as \"sea surface temperature\" or \"Temperature of Sea Surface\". However, the standard name must be strictly written as \"sea_surface_temperature\" just like given in the standard name table.\n",
    "        * Based on the Standard Name Table, the standard name for a longitude variable is always \"longitude\", for a latitude variable is \"latitude\", and for a time variable is \"time\".\n",
    "\n",
    "    * `units`: The unit of the variable, should be parsable by the [UDUNITS library](https://www.unidata.ucar.edu/software/udunits/). If a variable has a `standard_name`, its `units` can be looked up in the \"CF Standard Name Table\" too.\n",
    "        * E.g. As defined in the Standard Name Table, `degrees_north` is the unit for a latitude variable, and `degrees_east` for a longitude variable.\n",
    "        * The `units` of a time variable is supposed to be a string in the form of `[time-interval] since YYYY-MM-DD hh:mm:ss`, e.g. `seconds since 2001-1-1` in the example. \"seconds\", \"minutes\", \"hours\", and \"days\" are the most commonly used time intervals; \"months\" or \"years\" are not recommended because the interval length may vary.\n",
    "        * The `units` of sea surface temperature in the example is given in Kelvin (K), which is aligned with the recommendation by the [\"CF Standard Name Table\"](https://cfconventions.org/Data/cf-standard-names/current/build/cf-standard-name-table.html).\n",
    "\n",
    "\n",
    "\n",
    "* Important or Common Optional Attributes:\n",
    "\n",
    "    * `valid_range`: Two numbers specifying the MIN and MAX valid values of a variable. Any values outside this range are treated as missing. Must not be defined if either `valid_min` or `valid_max` is defined.\n",
    "\n",
    "    * `_FillValue`: Indicating missing data. It should be scalar (only one value) and outside of the `valid_range`. *This attribute is not allowed for coordinate variables*.\n",
    "        * E.g. in variable `tos`, everywhere in the 3D field where no values exist, are filled with value **1.e+20**\n",
    "\n",
    "    * `scale_factor`/`add_offset`: Used for unpacking data for display. \n",
    "    \n",
    "    $${unpackedData = scaleFactor * storedData + addOffset}$$\n",
    "        \n",
    "    * `actual_range`: Must exactly equal to the MIN and MAX of the unpacked variable. \n",
    "\n",
    "    * `axis`: Identifies latitude, longitude, vertical or time axes. (`X` for longitude, `Y` for latitude, `Z` for vertical axis, `T` for time)\n",
    "\n",
    "    * `coordinates`: *(This attribute exists only in data variables)* It is a list of auxiliary coordinate variables (and optionally coordinate variables) separated by a blank. There is no restriction on the order in which the variable names appear in the string.\n",
    "        * Though it's not given in the example dataset, variable `tos` may contain a coordinate attribute like `tos: coordinates = lon_bnds lat_bnds time_bnds`.\n",
    "\n",
    "    \n",
    "\n",
    "\n",
    "\n"
   ]
  },
  {
   "cell_type": "markdown",
   "metadata": {},
   "source": [
    "* If the data are gridded, the attribute `cell_methods` is valuable too:\n",
    "\n",
    "    * `cell_methods`: The method by which the cell values are calculated; it's formed in a string of `name:method`.\n",
    "        * E.g. `tos:cell_methods = time: mean (interval: 30 minutes)` tells that the value of sea surface temperature in every cell is a temporal mean of 30 days (As noted before, the correct time interval should be 30 days)."
   ]
  },
  {
   "cell_type": "markdown",
   "metadata": {},
   "source": [
    "```{note}\n",
    "In the example dataset, no attributes were provided to the boundary variables (`lon_bnds`, `lat_bnds`, `time_bnds`), that's because boundary variables usually inherits attributes of their parent variables (`lon`, `lat`, `time`).\n",
    "```"
   ]
  },
  {
   "cell_type": "markdown",
   "metadata": {},
   "source": [
    "#### 1.2. Global Attributes\n",
    "\n",
    "* `title`: short description about the content of the netCDF file.\n",
    "\n",
    "* `Conventions`: The name of the metadata standard applied to this dataset.\n",
    "\n",
    "* `institution`: The name of the organization where the dataset is produced.\n",
    "\n",
    "* `source`: The used method for producing the original data.\n",
    "\n",
    "* `references`: References that describe the data or the data production method, e.g. published article.\n",
    "\n",
    "* `history`: List of actions taken to modify the original data.\n",
    "\n",
    "* If the data are discrete, the attribute `featureType` is REQUIRED; the attribute value should be one of these options: `point`, `timeSeries`, `profile`, `trajectory`, `timeSeriesProfile`, `trajectoryProfile`.\n"
   ]
  },
  {
   "cell_type": "markdown",
   "metadata": {},
   "source": [
    "[Appendix A](https://cfconventions.org/Data/cf-conventions/cf-conventions-1.11/cf-conventions.html#attribute-appendix) of the CF Conventions provides an overview of all attributes defined by this metadata standard, you can find more information about attributes in the documentation. It should be noted that **including attributes that are not specified in the CF Conventions does not make a dataset incompatible with the CF Conventions**.\n"
   ]
  },
  {
   "cell_type": "markdown",
   "metadata": {},
   "source": [
    "### 2. File Structure Recommendations for Diverse Data Types\n",
    "\n",
    "Data in a netCDF file can be presented in two major forms, gridded or as discrete geometry samples (DSGs). Though the interpretation of gridded data may vary depending on its coordinate system, the ways how gridded data are arranged in netCDF files are quite similar. The example that we presented above has a representative structure of gridded data, where multiple layers of grids representing different variables (coordinate variable, auxiliary coordinate variable, data variable) are overlaid upon each other, thus overlaid cells share same coordinates. Data like images captured by earth observation satellites, climate model outputs are usually gridded data. However, the arrangement of DSG data in netCDFs can be very diverse, depending on the type as well as the length of DSG features.\n",
    "\n",
    "In the CF Conventions, DSG features are divided into the following types:\n",
    "\n",
    "* **Point**: Unconnected points / stations, each point / station only contains a single element (e.g. Earthquake data, Lightning data).\n",
    "\n",
    "* **Time Series**: Data are taken over periods of time for a single station (e.g. Weather station data, Fixed buoys).\n",
    "\n",
    "* **Profile**: Data are taken along a vertical line at a single station (e.g. Atmospheric profiles from satellites).\n",
    "\n",
    "* **Trajectory**: Data are taken along a spatial path at different times, each trajectory contains a set of connected points (e.g. Cruise data, drifting buoys).\n",
    "\n",
    "* Combined DSG:\n",
    "    * **Timeseries of Profiles**: Profiles taken over periods of time for a fixed station.\n",
    "    * **Trajectory of Profiles**: A collection of profiles along a trajectory (e.g. Ship soundings).\n",
    "\n",
    "The [Appendix H](https://cfconventions.org/Data/cf-conventions/cf-conventions-1.11/cf-conventions.html#appendix-examples-discrete-geometries) of the CF Conventions provides concrete recommendations on the data arrangement of various DSG data. By following the roadmap shown below, you could find the recommended netCDF file structure for the specific type of DSG data you have. In [chapter OOO](), we will walk you through the procedure of creating a netCDF file for various types of time series data as suggested by the CF Conventions; and in [chapter XXX](), we have some exercises prepared so that you can practice creating a standard netCDF file for other types of DSG data (e.g. profile, trajectory, etc.)"
   ]
  },
  {
   "cell_type": "markdown",
   "metadata": {},
   "source": [
    "![img](https://live.staticflickr.com/65535/53876343350_2425d3064b_o_d.jpg)"
   ]
  }
 ],
 "metadata": {
  "kernelspec": {
   "display_name": "venvnetcdf",
   "language": "python",
   "name": "venvnetcdf"
  },
  "language_info": {
   "codemirror_mode": {
    "name": "ipython",
    "version": 3
   },
   "file_extension": ".py",
   "mimetype": "text/x-python",
   "name": "python",
   "nbconvert_exporter": "python",
   "pygments_lexer": "ipython3",
   "version": "3.12.0"
  }
 },
 "nbformat": 4,
 "nbformat_minor": 2
}
