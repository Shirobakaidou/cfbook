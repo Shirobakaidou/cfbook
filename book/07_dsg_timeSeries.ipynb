{
 "cells": [
  {
   "cell_type": "markdown",
   "metadata": {},
   "source": [
    "* **time series (stations)**: Data is located at named locations, called *stations*. There can be many stations, and ususally for each station we have multiple data with different time coordinates. Stations have a unique identifier. *Examples: weather station data, fixed buoys*.\n",
    "    * Global attribute `feature_type = timeSeries`.\n",
    "    * The altitude coordinate is optional.\n",
    "    * Special station variables are recognized by standard names as given below. For backwards compatibility, the given aliases are allowed.\n",
    "    \n",
    "        |**standard_name**|**alias**|\n",
    "        |-----------------|---------|\n",
    "        |`timeseries_id`|`station_id`|\n",
    "        |`platform_name`|`station_description`|\n",
    "        |`surface_altitude`|`station_altitude`|\n",
    "        |`platform_id`|`station_WMO_id`|\n",
    "        \n",
    "    <br>\n",
    "        \n",
    "    * [Only one station in the file](https://cfconventions.org/Data/cf-conventions/cf-conventions-1.11/cf-conventions.html#_single_time_series_including_deviations_from_a_nominal_fixed_spatial_location)\n",
    "\n",
    "    * [All stations have the same time coordinates](https://cfconventions.org/Data/cf-conventions/cf-conventions-1.11/cf-conventions.html#_orthogonal_multidimensional_array_representation_of_time_series)\n",
    "    * [Each station has the same number of time coordinates but the coordinate values may be different](https://cfconventions.org/Data/cf-conventions/cf-conventions-1.11/cf-conventions.html#_incomplete_multidimensional_array_representation_of_time_series)\n",
    "        * The `lat`, `lon` and `altitude` coordinates must ahve the same dimension, called the *`station`* or *`instance`* dimension. All variables with the *`station`* dimension as outer dimension are *stations variables*(?).\n",
    "        * The time dimension must be of the form **time(time)** or **time(station, time)**, where the time dimension is the *`obs`* or *`sample`* dimension. (?)\n",
    "        * All data variables must have the form **data(station, time)**.\n",
    "        * For backwards compatibility:\n",
    "            |**standard_name**|**alias**|\n",
    "            |-----------------|---------|\n",
    "            |`sample_dimension`|`ragged_row_count`|\n",
    "            |`feature_dimension`|`ragged_row_index`|\n",
    "\n",
    "    * Each station has different number of coordinates and we wanna keep file size as small as possible:\n",
    "        * [we have all the data already, and we wanna optimize reading all the data for one station](https://cfconventions.org/Data/cf-conventions/cf-conventions-1.11/cf-conventions.html#_contiguous_ragged_array_representation_of_time_series)\n",
    "        * [we wanna write the data as it arrives, in any order](https://cfconventions.org/Data/cf-conventions/cf-conventions-1.11/cf-conventions.html#_indexed_ragged_array_representation_of_time_series)\n"
   ]
  }
 ],
 "metadata": {
  "language_info": {
   "name": "python"
  }
 },
 "nbformat": 4,
 "nbformat_minor": 2
}
