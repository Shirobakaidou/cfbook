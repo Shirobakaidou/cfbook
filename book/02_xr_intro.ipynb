{
 "cells": [
  {
   "cell_type": "markdown",
   "metadata": {},
   "source": [
    "# Introduction into handling netCDF files using xarray"
   ]
  },
  {
   "cell_type": "markdown",
   "metadata": {},
   "source": [
    "We want to introduce the python package `xarray` as a covenient tool to generate a standard netCDF file, no matter from scratch or converted from other file fomats. To be noted is that `xarray` is powerful, but may not handle any use cases / needs in the earth system science, so concerning data analysis, tools can be very diverse. Since this course focuses on generating publishable netCDF files by making it complied with the metadata standard \"the CF Conventions\", `xarray` is a handy tool and will be used in most chapters.\n",
    "\n",
    "Many other tools exist for handling netCDF data, some are mature and powerful after dozens of years of develoment, like \"CDO\". However, \"xarray\" can well interact with many other tools and thus can be well integrated into a data processing workflow.\n",
    "\n",
    "In the previous chapters, we learned about the core content structure of a standard netCDF file. The representation of the content structure in xarray is substantially the same, with some slightly different naming for some parts in `xarray`."
   ]
  },
  {
   "cell_type": "code",
   "execution_count": 1,
   "metadata": {},
   "outputs": [],
   "source": [
    "import numpy as np\n",
    "import xarray as xr\n",
    "from cftime import date2num, num2date"
   ]
  },
  {
   "cell_type": "code",
   "execution_count": 2,
   "metadata": {},
   "outputs": [
    {
     "name": "stdout",
     "output_type": "stream",
     "text": [
      "xarray.Dataset {\n",
      "dimensions:\n",
      "\tlon = 180 ;\n",
      "\tbnds = 2 ;\n",
      "\tlat = 170 ;\n",
      "\ttime = 24 ;\n",
      "\n",
      "variables:\n",
      "\tfloat64 lon(lon) ;\n",
      "\t\tlon:standard_name = longitude ;\n",
      "\t\tlon:long_name = longitude ;\n",
      "\t\tlon:units = degrees_east ;\n",
      "\t\tlon:axis = X ;\n",
      "\t\tlon:bounds = lon_bnds ;\n",
      "\t\tlon:original_units = degrees_east ;\n",
      "\tfloat64 lon_bnds(lon, bnds) ;\n",
      "\tfloat64 lat(lat) ;\n",
      "\t\tlat:standard_name = latitude ;\n",
      "\t\tlat:long_name = latitude ;\n",
      "\t\tlat:units = degrees_north ;\n",
      "\t\tlat:axis = Y ;\n",
      "\t\tlat:bounds = lat_bnds ;\n",
      "\t\tlat:original_units = degrees_north ;\n",
      "\tfloat64 lat_bnds(lat, bnds) ;\n",
      "\tfloat64 time(time) ;\n",
      "\t\ttime:standard_name = time ;\n",
      "\t\ttime:long_name = time ;\n",
      "\t\ttime:units = days since 2001-1-1 ;\n",
      "\t\ttime:axis = T ;\n",
      "\t\ttime:calendar = 360_day ;\n",
      "\t\ttime:bounds = time_bnds ;\n",
      "\t\ttime:original_units = seconds since 2001-1-1 ;\n",
      "\tfloat64 time_bnds(time, bnds) ;\n",
      "\tfloat32 tos(time, lat, lon) ;\n",
      "\t\ttos:standard_name = sea_surface_temperature ;\n",
      "\t\ttos:long_name = Sea Surface Temperature ;\n",
      "\t\ttos:units = K ;\n",
      "\t\ttos:cell_methods = time: mean (interval: 30 minutes) ;\n",
      "\t\ttos:_FillValue = 1.0000000200408773e+20 ;\n",
      "\t\ttos:missing_value = 1.0000000200408773e+20 ;\n",
      "\t\ttos:original_name = sosstsst ;\n",
      "\t\ttos:original_units = degC ;\n",
      "\t\ttos:history =  At   16:37:23 on 01/11/2005: CMOR altered the data in the following ways: added 2.73150E+02 to yield output units;  Cyclical dimension was output starting at a different lon; ;\n",
      "\n",
      "// global attributes:\n",
      "\t:title = IPSL  model output prepared for IPCC Fourth Assessment SRES A2 experiment ;\n",
      "\t:institution = IPSL (Institut Pierre Simon Laplace, Paris, France) ;\n",
      "\t:source = IPSL-CM4_v1 (2003) : atmosphere : LMDZ (IPSL-CM4_IPCC, 96x71x19) ; ocean ORCA2 (ipsl_cm4_v1_8, 2x2L31); sea ice LIM (ipsl_cm4_v ;\n",
      "\t:contact = Sebastien Denvil, sebastien.denvil@ipsl.jussieu.fr ;\n",
      "\t:project_id = IPCC Fourth Assessment ;\n",
      "\t:table_id = Table O1 (13 November 2004) ;\n",
      "\t:experiment_id = SRES A2 experiment ;\n",
      "\t:realization = 1 ;\n",
      "\t:cmor_version = 0.9599999785423279 ;\n",
      "\t:Conventions = CF-1.0 ;\n",
      "\t:history = YYYY/MM/JJ: data generated; YYYY/MM/JJ+1 data transformed  At 16:37:23 on 01/11/2005, CMOR rewrote data to comply with CF standards and IPCC Fourth Assessment requirements ;\n",
      "\t:references = Dufresne et al, Journal of Climate, 2015, vol XX, p 136 ;\n",
      "\t:comment = Test drive ;\n",
      "}"
     ]
    }
   ],
   "source": [
    "ds = xr.open_dataset(\"/Users/icdc/Documents/NFDI/Kemeng/cfbook/src/data/tos_O1_2001-2002.nc\",\n",
    "                     decode_cf=False)\n",
    "ds.info()"
   ]
  },
  {
   "cell_type": "code",
   "execution_count": 3,
   "metadata": {},
   "outputs": [],
   "source": [
    "# Get Coordinates\n",
    "# Two methods equivalent\n",
    "arr_time_num = ds['time'].to_numpy()\n",
    "arr_lat = ds['lat'].data\n",
    "arr_lon = ds['lon'].data\n",
    "\n",
    "# Get data variable\n",
    "arr_tos = ds['tos'].data\n",
    "\n",
    "#print(cd_time, '\\n', cd_lon, '\\n', cd_lat)"
   ]
  },
  {
   "cell_type": "code",
   "execution_count": 4,
   "metadata": {},
   "outputs": [
    {
     "data": {
      "text/plain": [
       "{'title': 'IPSL  model output prepared for IPCC Fourth Assessment SRES A2 experiment',\n",
       " 'institution': 'IPSL (Institut Pierre Simon Laplace, Paris, France)',\n",
       " 'source': 'IPSL-CM4_v1 (2003) : atmosphere : LMDZ (IPSL-CM4_IPCC, 96x71x19) ; ocean ORCA2 (ipsl_cm4_v1_8, 2x2L31); sea ice LIM (ipsl_cm4_v',\n",
       " 'contact': 'Sebastien Denvil, sebastien.denvil@ipsl.jussieu.fr',\n",
       " 'project_id': 'IPCC Fourth Assessment',\n",
       " 'table_id': 'Table O1 (13 November 2004)',\n",
       " 'experiment_id': 'SRES A2 experiment',\n",
       " 'realization': 1,\n",
       " 'cmor_version': 0.96,\n",
       " 'Conventions': 'CF-1.0',\n",
       " 'history': 'YYYY/MM/JJ: data generated; YYYY/MM/JJ+1 data transformed  At 16:37:23 on 01/11/2005, CMOR rewrote data to comply with CF standards and IPCC Fourth Assessment requirements',\n",
       " 'references': 'Dufresne et al, Journal of Climate, 2015, vol XX, p 136',\n",
       " 'comment': 'Test drive'}"
      ]
     },
     "execution_count": 4,
     "metadata": {},
     "output_type": "execute_result"
    }
   ],
   "source": [
    "# Get all Global Attributes\n",
    "ds.attrs"
   ]
  },
  {
   "cell_type": "code",
   "execution_count": 5,
   "metadata": {},
   "outputs": [
    {
     "data": {
      "text/plain": [
       "'IPSL-CM4_v1 (2003) : atmosphere : LMDZ (IPSL-CM4_IPCC, 96x71x19) ; ocean ORCA2 (ipsl_cm4_v1_8, 2x2L31); sea ice LIM (ipsl_cm4_v'"
      ]
     },
     "execution_count": 5,
     "metadata": {},
     "output_type": "execute_result"
    }
   ],
   "source": [
    "# Get a specific global attribute\n",
    "ds.attrs['source']"
   ]
  },
  {
   "cell_type": "code",
   "execution_count": 6,
   "metadata": {},
   "outputs": [
    {
     "data": {
      "text/plain": [
       "{'standard_name': 'time',\n",
       " 'long_name': 'time',\n",
       " 'units': 'days since 2001-1-1',\n",
       " 'axis': 'T',\n",
       " 'calendar': '360_day',\n",
       " 'bounds': 'time_bnds',\n",
       " 'original_units': 'seconds since 2001-1-1'}"
      ]
     },
     "execution_count": 6,
     "metadata": {},
     "output_type": "execute_result"
    }
   ],
   "source": [
    "# Get all attributes of a variable\n",
    "ds['time'].attrs"
   ]
  },
  {
   "cell_type": "code",
   "execution_count": 7,
   "metadata": {},
   "outputs": [
    {
     "name": "stdout",
     "output_type": "stream",
     "text": [
      "days since 2001-1-1\n",
      "360_day\n"
     ]
    }
   ],
   "source": [
    "# Get Variable Attributes\n",
    "time_units = ds['time'].units\n",
    "time_calendar = ds['time'].calendar\n",
    "print(time_units)\n",
    "print(time_calendar)"
   ]
  },
  {
   "cell_type": "code",
   "execution_count": 8,
   "metadata": {},
   "outputs": [
    {
     "data": {
      "text/plain": [
       "array([cftime.Datetime360Day(2001, 1, 16, 0, 0, 0, 0, has_year_zero=True),\n",
       "       cftime.Datetime360Day(2001, 2, 16, 0, 0, 0, 0, has_year_zero=True),\n",
       "       cftime.Datetime360Day(2001, 3, 16, 0, 0, 0, 0, has_year_zero=True),\n",
       "       cftime.Datetime360Day(2001, 4, 16, 0, 0, 0, 0, has_year_zero=True),\n",
       "       cftime.Datetime360Day(2001, 5, 16, 0, 0, 0, 0, has_year_zero=True),\n",
       "       cftime.Datetime360Day(2001, 6, 16, 0, 0, 0, 0, has_year_zero=True),\n",
       "       cftime.Datetime360Day(2001, 7, 16, 0, 0, 0, 0, has_year_zero=True),\n",
       "       cftime.Datetime360Day(2001, 8, 16, 0, 0, 0, 0, has_year_zero=True),\n",
       "       cftime.Datetime360Day(2001, 9, 16, 0, 0, 0, 0, has_year_zero=True),\n",
       "       cftime.Datetime360Day(2001, 10, 16, 0, 0, 0, 0, has_year_zero=True),\n",
       "       cftime.Datetime360Day(2001, 11, 16, 0, 0, 0, 0, has_year_zero=True),\n",
       "       cftime.Datetime360Day(2001, 12, 16, 0, 0, 0, 0, has_year_zero=True),\n",
       "       cftime.Datetime360Day(2002, 1, 16, 0, 0, 0, 0, has_year_zero=True),\n",
       "       cftime.Datetime360Day(2002, 2, 16, 0, 0, 0, 0, has_year_zero=True),\n",
       "       cftime.Datetime360Day(2002, 3, 16, 0, 0, 0, 0, has_year_zero=True),\n",
       "       cftime.Datetime360Day(2002, 4, 16, 0, 0, 0, 0, has_year_zero=True),\n",
       "       cftime.Datetime360Day(2002, 5, 16, 0, 0, 0, 0, has_year_zero=True),\n",
       "       cftime.Datetime360Day(2002, 6, 16, 0, 0, 0, 0, has_year_zero=True),\n",
       "       cftime.Datetime360Day(2002, 7, 16, 0, 0, 0, 0, has_year_zero=True),\n",
       "       cftime.Datetime360Day(2002, 8, 16, 0, 0, 0, 0, has_year_zero=True),\n",
       "       cftime.Datetime360Day(2002, 9, 16, 0, 0, 0, 0, has_year_zero=True),\n",
       "       cftime.Datetime360Day(2002, 10, 16, 0, 0, 0, 0, has_year_zero=True),\n",
       "       cftime.Datetime360Day(2002, 11, 16, 0, 0, 0, 0, has_year_zero=True),\n",
       "       cftime.Datetime360Day(2002, 12, 16, 0, 0, 0, 0, has_year_zero=True)],\n",
       "      dtype=object)"
      ]
     },
     "execution_count": 8,
     "metadata": {},
     "output_type": "execute_result"
    }
   ],
   "source": [
    "# Get Time from numeric time\n",
    "arr_time = num2date(times = arr_time_num, \n",
    "         units = time_units,\n",
    "         calendar = time_calendar)\n",
    "arr_time"
   ]
  },
  {
   "cell_type": "markdown",
   "metadata": {},
   "source": [
    "```{note}\n",
    "You can refer to https://unidata.github.io/cftime/api.html for more info about time conversion.\n",
    "```"
   ]
  }
 ],
 "metadata": {
  "kernelspec": {
   "display_name": "venvnetcdf",
   "language": "python",
   "name": "venvnetcdf"
  },
  "language_info": {
   "codemirror_mode": {
    "name": "ipython",
    "version": 3
   },
   "file_extension": ".py",
   "mimetype": "text/x-python",
   "name": "python",
   "nbconvert_exporter": "python",
   "pygments_lexer": "ipython3",
   "version": "3.12.0"
  }
 },
 "nbformat": 4,
 "nbformat_minor": 2
}
