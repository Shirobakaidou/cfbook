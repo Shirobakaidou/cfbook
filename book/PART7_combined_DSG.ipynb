{
 "cells": [
  {
   "cell_type": "markdown",
   "metadata": {},
   "source": [
    "## Create netCDF for complex DSGs\n",
    "\n",
    "The CF Conventions provide recommendations on netCDF structure for two types of complex DSGs, i.e. **time series of profiles** and **trajectory of profiles**.\n"
   ]
  },
  {
   "cell_type": "markdown",
   "metadata": {},
   "source": [
    "### Time Series of Profiles"
   ]
  },
  {
   "cell_type": "markdown",
   "metadata": {},
   "source": [
    "* Time series of profiles at a single station [(H.5.2)](https://cfconventions.org/Data/cf-conventions/cf-conventions-1.11/cf-conventions.html#_time_series_of_profiles_at_a_single_station): There is only one stations in a dataset; for this station, multiple profiles were measured at multiple times.\n",
    "\n",
    "* Multidimensional array representations of time series profiles [(H.5.1)](https://cfconventions.org/Data/cf-conventions/cf-conventions-1.11/cf-conventions.html#_multidimensional_array_representations_of_time_series_profiles): There are multiple stations in a dataset; for each station, one or more profiles were measured at multiple times; and there are the same number of profiles (i.e. time points for all time series), and the same number of vertical levels for every profile, whereas the time values and the vertical level values don't have to be the same. *For the situation where all time series share common time values, and all profiles share common vertical level values*, we can refer to the example H.17 in Appendix H.5.1.\n",
    "\n",
    "* Ragged array representation of time series profiles [(H.5.3)](https://cfconventions.org/Data/cf-conventions/cf-conventions-1.11/cf-conventions.html#_ragged_array_representation_of_time_series_profiles): There are multiple stations, the number of profiles and vertical levels for each station varies.\n"
   ]
  },
  {
   "cell_type": "markdown",
   "metadata": {},
   "source": [
    "### Trajectory of Profiles"
   ]
  },
  {
   "cell_type": "markdown",
   "metadata": {},
   "source": [
    "* Profiles along a single trajectory [(H.6.2)](https://cfconventions.org/Data/cf-conventions/cf-conventions-1.11/cf-conventions.html#_profiles_along_a_single_trajectory)\n",
    "\n",
    "* Multidimensional array representation of trajectory profiles [(H.6.1)](https://cfconventions.org/Data/cf-conventions/cf-conventions-1.11/cf-conventions.html#_multidimensional_array_representation_of_trajectory_profiles)\n",
    "\n",
    "* Ragged array representation of trajectory profiles [(H.6.3)](https://cfconventions.org/Data/cf-conventions/cf-conventions-1.11/cf-conventions.html#_ragged_array_representation_of_trajectory_profiles)"
   ]
  },
  {
   "cell_type": "markdown",
   "metadata": {},
   "source": [
    "```{note}\n",
    "It's not always a good choice to pack all data into one single netCDF file. If thins get too complicated, it's often a better choice to separate the data by stations and put them into different netCDF files.\n",
    "```"
   ]
  },
  {
   "cell_type": "code",
   "execution_count": 1,
   "metadata": {},
   "outputs": [],
   "source": [
    "import os\n",
    "from glob import glob\n",
    "import numpy as np\n",
    "import pandas as pd\n",
    "import xarray as xr\n",
    "import cftime\n",
    "from datetime import datetime"
   ]
  },
  {
   "cell_type": "code",
   "execution_count": 3,
   "metadata": {},
   "outputs": [
    {
     "data": {
      "text/plain": [
       "['/Users/icdc/Documents/NFDI/Kemeng/cfbook/src/data/dsg_trjProfile/Globec_bottle_data_2002.nc']"
      ]
     },
     "execution_count": 3,
     "metadata": {},
     "output_type": "execute_result"
    }
   ],
   "source": [
    "# List available datasets. Please change it to your file path.\n",
    "os.chdir('/Users/icdc/Documents/NFDI/Kemeng/cfbook/src/data')\n",
    "trj_files = glob(os.path.join(os.getcwd(), \"dsg_trjProfile\", \"*.nc\"))\n",
    "trj_files"
   ]
  },
  {
   "cell_type": "code",
   "execution_count": null,
   "metadata": {},
   "outputs": [],
   "source": []
  }
 ],
 "metadata": {
  "kernelspec": {
   "display_name": "venvnetcdf",
   "language": "python",
   "name": "venvnetcdf"
  },
  "language_info": {
   "codemirror_mode": {
    "name": "ipython",
    "version": 3
   },
   "file_extension": ".py",
   "mimetype": "text/x-python",
   "name": "python",
   "nbconvert_exporter": "python",
   "pygments_lexer": "ipython3",
   "version": "3.12.0"
  }
 },
 "nbformat": 4,
 "nbformat_minor": 2
}
