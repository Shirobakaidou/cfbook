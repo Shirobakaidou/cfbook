{
 "cells": [
  {
   "cell_type": "markdown",
   "metadata": {},
   "source": [
    "# CF Conventions 101"
   ]
  },
  {
   "cell_type": "markdown",
   "metadata": {},
   "source": [
    "(section-1)=\n",
    "## What is CF Conventions?\n",
    "Above is the section label\n",
    "Blablablabla...\n",
    "\n",
    "Below is the content structure of an [example netCDF file](https://www.unidata.ucar.edu/software/netcdf/examples/tos_O1_2001-2002.nc), containing sea surface temperatures collected by [PCMDI](https://en.wikipedia.org/wiki/Program_for_Climate_Model_Diagnosis_and_Intercomparison)."
   ]
  },
  {
   "cell_type": "markdown",
   "metadata": {},
   "source": [
    "## Another Chapter\n",
    "\n",
    "Here is a [reference to the intro](intro.md).\n",
    "\n",
    "Here is a reference to the [previous chapter](section-1)."
   ]
  },
  {
   "cell_type": "code",
   "execution_count": null,
   "metadata": {},
   "outputs": [],
   "source": []
  }
 ],
 "metadata": {
  "language_info": {
   "name": "python"
  }
 },
 "nbformat": 4,
 "nbformat_minor": 2
}
