{
 "cells": [
  {
   "cell_type": "markdown",
   "metadata": {},
   "source": [
    "# Discrete Sampling Geometries (DSG) netCDF in the CF Conventions\n",
    "\n",
    "From this chapter, we are going to focus on discrete sampling geometries (DSG) data, learn how to create netCDF files for these kind of data, and make them conforming to the CF Conventions.\n",
    "\n",
    "DSG Types are:\n",
    "\n",
    "* Point(s)\n",
    "\n",
    "* Time Series\n",
    "\n",
    "* Profile(s)\n",
    "\n",
    "* Time Series of Profile(s)\n",
    "\n",
    "* Trajectory\n",
    "\n",
    "* Trajectory of Profile(s)"
   ]
  },
  {
   "cell_type": "markdown",
   "metadata": {},
   "source": [
    "## DSG Types\n",
    "\n",
    "DSG netCDF is the type of a netCDF file that stores a collection of **\"features\"** in a single file, where the \"features\" can be one of the following types:\n",
    "\n",
    "* **Point(s)**: Data is located at different, unconnected locations, e.g. earthquake data, lightning data.\n",
    "\n",
    "* **Time Series**: Data is located at named locations, called stations, each has a unique identifier. There can be multiple stations, and ususally for each station we have multiple data with different time coordinates. Examples are weather stations data, fixed buoys.\n",
    "\n",
    "* **Profile(s)**: A series of connected observations along a vertical line. Each profile has only one lat, lon coordinate (possibly nominal), so that the points along the profile differ only in z coordinate and possibly time coodinate. There can be multiple profiles in the same file, and each profile has a unique identifier. If we have many profiles with the same lat, lon location, use the Time Series Profile type. *Examples: atomospheric profiles from satellites, moving profilers*.\n",
    "\n",
    "* **Time Series of Profile(s)**: Time series of profiles at fixed locations. A file can contain many stations and many time series at each station. *Examples: profilers, balloon soundings*.\n",
    "\n",
    "* **Trajectory**: A series of connected observations along a 1D curve in time and space. There can be multiple trajectories in the same file, each with a unique identifier. *Examples: aircraft data, drifting buoys*.\n",
    "\n",
    "* **Trajectory of Profile(s)**: a collection of profile features which originate along a trajectory. So there are trajectories which have profile data (varying with z) at each (lat, lon) location. *Examples: ship soundings*.\n",
    "\n"
   ]
  },
  {
   "cell_type": "markdown",
   "metadata": {},
   "source": [
    "```{note}\n",
    "* A global attribute **`feature_type`/`featureType`** is required for all files that represent a DSG.\n",
    "\n",
    "* (CF) \"Where feasible a variable with the attribute `cf_role` should be included. The only acceptable values of `cf_role` for DGS are \"timeseries_id\", \"profile_id\" and \"trajectory_id\". The variable carraying the `cf_role` attribute may have any data type. When a variable is assigned this attribute, it must provide a unique identifier for each feature instance.\"\n",
    "```"
   ]
  }
 ],
 "metadata": {
  "kernelspec": {
   "display_name": "venvnetcdf",
   "language": "python",
   "name": "venvnetcdf"
  },
  "language_info": {
   "codemirror_mode": {
    "name": "ipython",
    "version": 3
   },
   "file_extension": ".py",
   "mimetype": "text/x-python",
   "name": "python",
   "nbconvert_exporter": "python",
   "pygments_lexer": "ipython3",
   "version": "3.12.0"
  }
 },
 "nbformat": 4,
 "nbformat_minor": 2
}
