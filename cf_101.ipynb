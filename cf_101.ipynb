{
 "cells": [
  {
   "cell_type": "markdown",
   "metadata": {},
   "source": [
    "# CF Conventions 101"
   ]
  },
  {
   "cell_type": "markdown",
   "metadata": {},
   "source": [
    "In the previous chapter, we learned about the most used data format in earth system science, the netCDF file and its core centent structure. It is clear that metadata are essential to make a netCDF file self-described. In this chapter, we are going to learn about a widely implemented metadata standard for netCDF data format, the **Climate Forecast Conventions (CF Conventions)**. We are interested in a metadata standard is mostly because it makes scientific datasets more findable, accessible, interoperable, and reusable (the FAIR principle).\n",
    "\n",
    "The CF Conventions is not the only metadata standard for netCDF files. Its accessor, the COARDS Conventions, is for example a widely implemented metadata standard too. Some big data providers also have their own metadata standards. However, with good compatibility and flexibility, the CF Conventions is gaining more popularity. For instance, the COARDS Conventions places rigid restriction on the order of dimensions while the CF Conventions doesn't. And as a successor of the COARDS Conventions, the CF Conventions is *backward compatible* with COARDS, which means programs that can process CF conforming datasets should likely be able to process COARDS conforming datasets too.\n",
    "\n",
    "Now let's take a closer look at how the CF Conventions formulates the metadata in a netCDF file with an example [dataset](https://www.unidata.ucar.edu/software/netcdf/examples/tos_O1_2001-2002.nc), containing sea surface temperatures collected by [PCMDI](https://en.wikipedia.org/wiki/Program_for_Climate_Model_Diagnosis_and_Intercomparison)."
   ]
  },
  {
   "cell_type": "code",
   "execution_count": 2,
   "metadata": {},
   "outputs": [
    {
     "name": "stdout",
     "output_type": "stream",
     "text": [
      "xarray.Dataset {\n",
      "dimensions:\n",
      "\tlon = 180 ;\n",
      "\tbnds = 2 ;\n",
      "\tlat = 170 ;\n",
      "\ttime = 24 ;\n",
      "\n",
      "variables:\n",
      "\tfloat64 lon(lon) ;\n",
      "\t\tlon:standard_name = longitude ;\n",
      "\t\tlon:long_name = longitude ;\n",
      "\t\tlon:units = degrees_east ;\n",
      "\t\tlon:axis = X ;\n",
      "\t\tlon:bounds = lon_bnds ;\n",
      "\t\tlon:original_units = degrees_east ;\n",
      "\tfloat64 lon_bnds(lon, bnds) ;\n",
      "\tfloat64 lat(lat) ;\n",
      "\t\tlat:standard_name = latitude ;\n",
      "\t\tlat:long_name = latitude ;\n",
      "\t\tlat:units = degrees_north ;\n",
      "\t\tlat:axis = Y ;\n",
      "\t\tlat:bounds = lat_bnds ;\n",
      "\t\tlat:original_units = degrees_north ;\n",
      "\tfloat64 lat_bnds(lat, bnds) ;\n",
      "\tfloat64 time(time) ;\n",
      "\t\ttime:standard_name = time ;\n",
      "\t\ttime:long_name = time ;\n",
      "\t\ttime:units = days since 2001-1-1 ;\n",
      "\t\ttime:axis = T ;\n",
      "\t\ttime:calendar = 360_day ;\n",
      "\t\ttime:bounds = time_bnds ;\n",
      "\t\ttime:original_units = seconds since 2001-1-1 ;\n",
      "\tfloat64 time_bnds(time, bnds) ;\n",
      "\tfloat32 tos(time, lat, lon) ;\n",
      "\t\ttos:standard_name = sea_surface_temperature ;\n",
      "\t\ttos:long_name = Sea Surface Temperature ;\n",
      "\t\ttos:units = K ;\n",
      "\t\ttos:cell_methods = time: mean (interval: 30 minutes) ;\n",
      "\t\ttos:_FillValue = 1.0000000200408773e+20 ;\n",
      "\t\ttos:missing_value = 1.0000000200408773e+20 ;\n",
      "\t\ttos:original_name = sosstsst ;\n",
      "\t\ttos:original_units = degC ;\n",
      "\t\ttos:history =  At   16:37:23 on 01/11/2005: CMOR altered the data in the following ways: added 2.73150E+02 to yield output units;  Cyclical dimension was output starting at a different lon; ;\n",
      "\n",
      "// global attributes:\n",
      "\t:title = IPSL  model output prepared for IPCC Fourth Assessment SRES A2 experiment ;\n",
      "\t:institution = IPSL (Institut Pierre Simon Laplace, Paris, France) ;\n",
      "\t:source = IPSL-CM4_v1 (2003) : atmosphere : LMDZ (IPSL-CM4_IPCC, 96x71x19) ; ocean ORCA2 (ipsl_cm4_v1_8, 2x2L31); sea ice LIM (ipsl_cm4_v ;\n",
      "\t:contact = Sebastien Denvil, sebastien.denvil@ipsl.jussieu.fr ;\n",
      "\t:project_id = IPCC Fourth Assessment ;\n",
      "\t:table_id = Table O1 (13 November 2004) ;\n",
      "\t:experiment_id = SRES A2 experiment ;\n",
      "\t:realization = 1 ;\n",
      "\t:cmor_version = 0.9599999785423279 ;\n",
      "\t:Conventions = CF-1.0 ;\n",
      "\t:history = YYYY/MM/JJ: data generated; YYYY/MM/JJ+1 data transformed  At 16:37:23 on 01/11/2005, CMOR rewrote data to comply with CF standards and IPCC Fourth Assessment requirements ;\n",
      "\t:references = Dufresne et al, Journal of Climate, 2015, vol XX, p 136 ;\n",
      "\t:comment = Test drive ;\n",
      "}"
     ]
    }
   ],
   "source": [
    "import xarray as xr\n",
    "\n",
    "ds = xr.open_dataset(\"/Users/icdc/Documents/NFDI/Kemeng/cfbook/src/data/tos_O1_2001-2002.nc\",\n",
    "                     decode_cf=False)\n",
    "ds.info()"
   ]
  },
  {
   "cell_type": "markdown",
   "metadata": {},
   "source": [
    "In the CF Conventions, metadata are divided in \"required\" and \"optional\".\n",
    "\n",
    "For all kinds of variables, `units` and at least one of `long_name` and `standard_name` is required. Both `long_name` and `standard_name` label a variable; `standard_name` must be a controlled vocabulary as defined in the [\"CF Standard Name Table\"](https://cfconventions.org/Data/cf-standard-names/current/build/cf-standard-name-table.html), while `long_name` allows data providers to compose a definition. If a variable has a `standard_name`, its `units` can be looked up in the \"CF Standard Name Table\" as well. \n",
    "\n",
    "As you can see, the example dataset contains three coordinate variables: `lon`, `lat`, and `time`. As regulated by the CF Conventions, a variable representing the longitude must literally have \"longitude\" as `standard_name` and \"degrees_east\" as `units`; similarly, the `standard_name` and `units` for a latitude variable must be \"latitude\" and \"degrees_north\". As for the time variable, it must have \"time\" as `standard_name` and a string similar to the form of \"[time-interval] since YYYY-MM-DD hh:mm:ss\" as `units`, e.g. in our example the unit of the time variable is `seconds since 2001-1-1`. \"seconds\", \"minutes\", \"hours\", and \"days\" are the most commonly used time intervals; it is not recommended to use \"months\" or \"years\" as the length of these time intervals can vary.\n",
    "\n",
    "\n",
    "\n",
    "In case a variable is not pre-defined in the \"CF Standard Name Table\", data providers need to define it in `long_name` and provide `units` that's parsable by the UDUNITS library."
   ]
  },
  {
   "cell_type": "markdown",
   "metadata": {},
   "source": [
    "## Another Chapter\n",
    "\n",
    "Here is a [reference to the intro](intro.md).\n",
    "\n",
    "Here is a reference to the [previous chapter](section-1)."
   ]
  },
  {
   "cell_type": "code",
   "execution_count": null,
   "metadata": {},
   "outputs": [],
   "source": []
  }
 ],
 "metadata": {
  "kernelspec": {
   "display_name": "venvNetcdf",
   "language": "python",
   "name": "venvnetcdf"
  },
  "language_info": {
   "codemirror_mode": {
    "name": "ipython",
    "version": 3
   },
   "file_extension": ".py",
   "mimetype": "text/x-python",
   "name": "python",
   "nbconvert_exporter": "python",
   "pygments_lexer": "ipython3",
   "version": "3.12.0"
  }
 },
 "nbformat": 4,
 "nbformat_minor": 2
}
