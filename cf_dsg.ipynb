{
 "cells": [
  {
   "cell_type": "markdown",
   "metadata": {},
   "source": [
    "# Discrete Sampling Geometries (DSG) netCDF in the CF Conventions\n",
    "\n",
    "The examples in the previous chapters all concern netCDF files with grid data. In this chapter, we are going to learn about discrete sampling geometries (DSG) data and how they should look like in a netCDF file complied with the CF Conventions."
   ]
  },
  {
   "cell_type": "code",
   "execution_count": null,
   "metadata": {},
   "outputs": [],
   "source": []
  }
 ],
 "metadata": {
  "language_info": {
   "name": "python"
  }
 },
 "nbformat": 4,
 "nbformat_minor": 2
}
